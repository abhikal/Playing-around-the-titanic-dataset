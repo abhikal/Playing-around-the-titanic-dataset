{
  "nbformat": 4,
  "nbformat_minor": 0,
  "metadata": {
    "colab": {
      "name": "LOGISTIC TITANIC.ipynb",
      "provenance": [],
      "collapsed_sections": []
    },
    "kernelspec": {
      "name": "python3",
      "display_name": "Python 3"
    }
  },
  "cells": [
    {
      "cell_type": "markdown",
      "metadata": {
        "id": "z5VVM1KBQysg",
        "colab_type": "text"
      },
      "source": [
        "**Importing the modules**"
      ]
    },
    {
      "cell_type": "code",
      "metadata": {
        "id": "q8HeBXiKmQIh",
        "colab_type": "code",
        "colab": {}
      },
      "source": [
        "import numpy as np\n",
        "import pandas as pd\n",
        "import matplotlib.pyplot as plt\n",
        "import seaborn as sns"
      ],
      "execution_count": 49,
      "outputs": []
    },
    {
      "cell_type": "code",
      "metadata": {
        "id": "bSyhmrWBn6qq",
        "colab_type": "code",
        "colab": {}
      },
      "source": [
        "import statsmodels.api as sm"
      ],
      "execution_count": 50,
      "outputs": []
    },
    {
      "cell_type": "code",
      "metadata": {
        "id": "85ZF0TsSoF7J",
        "colab_type": "code",
        "colab": {}
      },
      "source": [
        "sns.set()"
      ],
      "execution_count": 51,
      "outputs": []
    },
    {
      "cell_type": "markdown",
      "metadata": {
        "id": "gP-xnJ_TQ4l2",
        "colab_type": "text"
      },
      "source": [
        "***Reading the raw file***"
      ]
    },
    {
      "cell_type": "code",
      "metadata": {
        "id": "2eiSwLzOff2k",
        "colab_type": "code",
        "colab": {
          "base_uri": "https://localhost:8080/",
          "height": 255
        },
        "outputId": "a22148ef-a6bf-4a7b-bd68-7a4cd35e1fba"
      },
      "source": [
        "raw_data =pd.read_csv(\"train.csv\")\n",
        "raw_data.head()"
      ],
      "execution_count": 52,
      "outputs": [
        {
          "output_type": "execute_result",
          "data": {
            "text/html": [
              "<div>\n",
              "<style scoped>\n",
              "    .dataframe tbody tr th:only-of-type {\n",
              "        vertical-align: middle;\n",
              "    }\n",
              "\n",
              "    .dataframe tbody tr th {\n",
              "        vertical-align: top;\n",
              "    }\n",
              "\n",
              "    .dataframe thead th {\n",
              "        text-align: right;\n",
              "    }\n",
              "</style>\n",
              "<table border=\"1\" class=\"dataframe\">\n",
              "  <thead>\n",
              "    <tr style=\"text-align: right;\">\n",
              "      <th></th>\n",
              "      <th>PassengerId</th>\n",
              "      <th>Survived</th>\n",
              "      <th>Pclass</th>\n",
              "      <th>Name</th>\n",
              "      <th>Sex</th>\n",
              "      <th>Age</th>\n",
              "      <th>SibSp</th>\n",
              "      <th>Parch</th>\n",
              "      <th>Ticket</th>\n",
              "      <th>Fare</th>\n",
              "      <th>Cabin</th>\n",
              "      <th>Embarked</th>\n",
              "    </tr>\n",
              "  </thead>\n",
              "  <tbody>\n",
              "    <tr>\n",
              "      <th>0</th>\n",
              "      <td>1</td>\n",
              "      <td>0</td>\n",
              "      <td>3</td>\n",
              "      <td>Braund, Mr. Owen Harris</td>\n",
              "      <td>male</td>\n",
              "      <td>22.0</td>\n",
              "      <td>1</td>\n",
              "      <td>0</td>\n",
              "      <td>A/5 21171</td>\n",
              "      <td>7.2500</td>\n",
              "      <td>NaN</td>\n",
              "      <td>S</td>\n",
              "    </tr>\n",
              "    <tr>\n",
              "      <th>1</th>\n",
              "      <td>2</td>\n",
              "      <td>1</td>\n",
              "      <td>1</td>\n",
              "      <td>Cumings, Mrs. John Bradley (Florence Briggs Th...</td>\n",
              "      <td>female</td>\n",
              "      <td>38.0</td>\n",
              "      <td>1</td>\n",
              "      <td>0</td>\n",
              "      <td>PC 17599</td>\n",
              "      <td>71.2833</td>\n",
              "      <td>C85</td>\n",
              "      <td>C</td>\n",
              "    </tr>\n",
              "    <tr>\n",
              "      <th>2</th>\n",
              "      <td>3</td>\n",
              "      <td>1</td>\n",
              "      <td>3</td>\n",
              "      <td>Heikkinen, Miss. Laina</td>\n",
              "      <td>female</td>\n",
              "      <td>26.0</td>\n",
              "      <td>0</td>\n",
              "      <td>0</td>\n",
              "      <td>STON/O2. 3101282</td>\n",
              "      <td>7.9250</td>\n",
              "      <td>NaN</td>\n",
              "      <td>S</td>\n",
              "    </tr>\n",
              "    <tr>\n",
              "      <th>3</th>\n",
              "      <td>4</td>\n",
              "      <td>1</td>\n",
              "      <td>1</td>\n",
              "      <td>Futrelle, Mrs. Jacques Heath (Lily May Peel)</td>\n",
              "      <td>female</td>\n",
              "      <td>35.0</td>\n",
              "      <td>1</td>\n",
              "      <td>0</td>\n",
              "      <td>113803</td>\n",
              "      <td>53.1000</td>\n",
              "      <td>C123</td>\n",
              "      <td>S</td>\n",
              "    </tr>\n",
              "    <tr>\n",
              "      <th>4</th>\n",
              "      <td>5</td>\n",
              "      <td>0</td>\n",
              "      <td>3</td>\n",
              "      <td>Allen, Mr. William Henry</td>\n",
              "      <td>male</td>\n",
              "      <td>35.0</td>\n",
              "      <td>0</td>\n",
              "      <td>0</td>\n",
              "      <td>373450</td>\n",
              "      <td>8.0500</td>\n",
              "      <td>NaN</td>\n",
              "      <td>S</td>\n",
              "    </tr>\n",
              "  </tbody>\n",
              "</table>\n",
              "</div>"
            ],
            "text/plain": [
              "   PassengerId  Survived  Pclass  ...     Fare Cabin  Embarked\n",
              "0            1         0       3  ...   7.2500   NaN         S\n",
              "1            2         1       1  ...  71.2833   C85         C\n",
              "2            3         1       3  ...   7.9250   NaN         S\n",
              "3            4         1       1  ...  53.1000  C123         S\n",
              "4            5         0       3  ...   8.0500   NaN         S\n",
              "\n",
              "[5 rows x 12 columns]"
            ]
          },
          "metadata": {
            "tags": []
          },
          "execution_count": 52
        }
      ]
    },
    {
      "cell_type": "markdown",
      "metadata": {
        "id": "NTkFI6kVQ_Qs",
        "colab_type": "text"
      },
      "source": [
        "***To see what all of it contains***"
      ]
    },
    {
      "cell_type": "code",
      "metadata": {
        "id": "q-5fJdH3fiN5",
        "colab_type": "code",
        "colab": {
          "base_uri": "https://localhost:8080/",
          "height": 461
        },
        "outputId": "2fb3f434-eac9-4696-f7ef-0778f49c674b"
      },
      "source": [
        "raw_data.describe(include='all')"
      ],
      "execution_count": 53,
      "outputs": [
        {
          "output_type": "execute_result",
          "data": {
            "text/html": [
              "<div>\n",
              "<style scoped>\n",
              "    .dataframe tbody tr th:only-of-type {\n",
              "        vertical-align: middle;\n",
              "    }\n",
              "\n",
              "    .dataframe tbody tr th {\n",
              "        vertical-align: top;\n",
              "    }\n",
              "\n",
              "    .dataframe thead th {\n",
              "        text-align: right;\n",
              "    }\n",
              "</style>\n",
              "<table border=\"1\" class=\"dataframe\">\n",
              "  <thead>\n",
              "    <tr style=\"text-align: right;\">\n",
              "      <th></th>\n",
              "      <th>PassengerId</th>\n",
              "      <th>Survived</th>\n",
              "      <th>Pclass</th>\n",
              "      <th>Name</th>\n",
              "      <th>Sex</th>\n",
              "      <th>Age</th>\n",
              "      <th>SibSp</th>\n",
              "      <th>Parch</th>\n",
              "      <th>Ticket</th>\n",
              "      <th>Fare</th>\n",
              "      <th>Cabin</th>\n",
              "      <th>Embarked</th>\n",
              "    </tr>\n",
              "  </thead>\n",
              "  <tbody>\n",
              "    <tr>\n",
              "      <th>count</th>\n",
              "      <td>891.000000</td>\n",
              "      <td>891.000000</td>\n",
              "      <td>891.000000</td>\n",
              "      <td>891</td>\n",
              "      <td>891</td>\n",
              "      <td>714.000000</td>\n",
              "      <td>891.000000</td>\n",
              "      <td>891.000000</td>\n",
              "      <td>891</td>\n",
              "      <td>891.000000</td>\n",
              "      <td>204</td>\n",
              "      <td>889</td>\n",
              "    </tr>\n",
              "    <tr>\n",
              "      <th>unique</th>\n",
              "      <td>NaN</td>\n",
              "      <td>NaN</td>\n",
              "      <td>NaN</td>\n",
              "      <td>891</td>\n",
              "      <td>2</td>\n",
              "      <td>NaN</td>\n",
              "      <td>NaN</td>\n",
              "      <td>NaN</td>\n",
              "      <td>681</td>\n",
              "      <td>NaN</td>\n",
              "      <td>147</td>\n",
              "      <td>3</td>\n",
              "    </tr>\n",
              "    <tr>\n",
              "      <th>top</th>\n",
              "      <td>NaN</td>\n",
              "      <td>NaN</td>\n",
              "      <td>NaN</td>\n",
              "      <td>Moore, Mr. Leonard Charles</td>\n",
              "      <td>male</td>\n",
              "      <td>NaN</td>\n",
              "      <td>NaN</td>\n",
              "      <td>NaN</td>\n",
              "      <td>347082</td>\n",
              "      <td>NaN</td>\n",
              "      <td>B96 B98</td>\n",
              "      <td>S</td>\n",
              "    </tr>\n",
              "    <tr>\n",
              "      <th>freq</th>\n",
              "      <td>NaN</td>\n",
              "      <td>NaN</td>\n",
              "      <td>NaN</td>\n",
              "      <td>1</td>\n",
              "      <td>577</td>\n",
              "      <td>NaN</td>\n",
              "      <td>NaN</td>\n",
              "      <td>NaN</td>\n",
              "      <td>7</td>\n",
              "      <td>NaN</td>\n",
              "      <td>4</td>\n",
              "      <td>644</td>\n",
              "    </tr>\n",
              "    <tr>\n",
              "      <th>mean</th>\n",
              "      <td>446.000000</td>\n",
              "      <td>0.383838</td>\n",
              "      <td>2.308642</td>\n",
              "      <td>NaN</td>\n",
              "      <td>NaN</td>\n",
              "      <td>29.699118</td>\n",
              "      <td>0.523008</td>\n",
              "      <td>0.381594</td>\n",
              "      <td>NaN</td>\n",
              "      <td>32.204208</td>\n",
              "      <td>NaN</td>\n",
              "      <td>NaN</td>\n",
              "    </tr>\n",
              "    <tr>\n",
              "      <th>std</th>\n",
              "      <td>257.353842</td>\n",
              "      <td>0.486592</td>\n",
              "      <td>0.836071</td>\n",
              "      <td>NaN</td>\n",
              "      <td>NaN</td>\n",
              "      <td>14.526497</td>\n",
              "      <td>1.102743</td>\n",
              "      <td>0.806057</td>\n",
              "      <td>NaN</td>\n",
              "      <td>49.693429</td>\n",
              "      <td>NaN</td>\n",
              "      <td>NaN</td>\n",
              "    </tr>\n",
              "    <tr>\n",
              "      <th>min</th>\n",
              "      <td>1.000000</td>\n",
              "      <td>0.000000</td>\n",
              "      <td>1.000000</td>\n",
              "      <td>NaN</td>\n",
              "      <td>NaN</td>\n",
              "      <td>0.420000</td>\n",
              "      <td>0.000000</td>\n",
              "      <td>0.000000</td>\n",
              "      <td>NaN</td>\n",
              "      <td>0.000000</td>\n",
              "      <td>NaN</td>\n",
              "      <td>NaN</td>\n",
              "    </tr>\n",
              "    <tr>\n",
              "      <th>25%</th>\n",
              "      <td>223.500000</td>\n",
              "      <td>0.000000</td>\n",
              "      <td>2.000000</td>\n",
              "      <td>NaN</td>\n",
              "      <td>NaN</td>\n",
              "      <td>20.125000</td>\n",
              "      <td>0.000000</td>\n",
              "      <td>0.000000</td>\n",
              "      <td>NaN</td>\n",
              "      <td>7.910400</td>\n",
              "      <td>NaN</td>\n",
              "      <td>NaN</td>\n",
              "    </tr>\n",
              "    <tr>\n",
              "      <th>50%</th>\n",
              "      <td>446.000000</td>\n",
              "      <td>0.000000</td>\n",
              "      <td>3.000000</td>\n",
              "      <td>NaN</td>\n",
              "      <td>NaN</td>\n",
              "      <td>28.000000</td>\n",
              "      <td>0.000000</td>\n",
              "      <td>0.000000</td>\n",
              "      <td>NaN</td>\n",
              "      <td>14.454200</td>\n",
              "      <td>NaN</td>\n",
              "      <td>NaN</td>\n",
              "    </tr>\n",
              "    <tr>\n",
              "      <th>75%</th>\n",
              "      <td>668.500000</td>\n",
              "      <td>1.000000</td>\n",
              "      <td>3.000000</td>\n",
              "      <td>NaN</td>\n",
              "      <td>NaN</td>\n",
              "      <td>38.000000</td>\n",
              "      <td>1.000000</td>\n",
              "      <td>0.000000</td>\n",
              "      <td>NaN</td>\n",
              "      <td>31.000000</td>\n",
              "      <td>NaN</td>\n",
              "      <td>NaN</td>\n",
              "    </tr>\n",
              "    <tr>\n",
              "      <th>max</th>\n",
              "      <td>891.000000</td>\n",
              "      <td>1.000000</td>\n",
              "      <td>3.000000</td>\n",
              "      <td>NaN</td>\n",
              "      <td>NaN</td>\n",
              "      <td>80.000000</td>\n",
              "      <td>8.000000</td>\n",
              "      <td>6.000000</td>\n",
              "      <td>NaN</td>\n",
              "      <td>512.329200</td>\n",
              "      <td>NaN</td>\n",
              "      <td>NaN</td>\n",
              "    </tr>\n",
              "  </tbody>\n",
              "</table>\n",
              "</div>"
            ],
            "text/plain": [
              "        PassengerId    Survived      Pclass  ...        Fare    Cabin  Embarked\n",
              "count    891.000000  891.000000  891.000000  ...  891.000000      204       889\n",
              "unique          NaN         NaN         NaN  ...         NaN      147         3\n",
              "top             NaN         NaN         NaN  ...         NaN  B96 B98         S\n",
              "freq            NaN         NaN         NaN  ...         NaN        4       644\n",
              "mean     446.000000    0.383838    2.308642  ...   32.204208      NaN       NaN\n",
              "std      257.353842    0.486592    0.836071  ...   49.693429      NaN       NaN\n",
              "min        1.000000    0.000000    1.000000  ...    0.000000      NaN       NaN\n",
              "25%      223.500000    0.000000    2.000000  ...    7.910400      NaN       NaN\n",
              "50%      446.000000    0.000000    3.000000  ...   14.454200      NaN       NaN\n",
              "75%      668.500000    1.000000    3.000000  ...   31.000000      NaN       NaN\n",
              "max      891.000000    1.000000    3.000000  ...  512.329200      NaN       NaN\n",
              "\n",
              "[11 rows x 12 columns]"
            ]
          },
          "metadata": {
            "tags": []
          },
          "execution_count": 53
        }
      ]
    },
    {
      "cell_type": "markdown",
      "metadata": {
        "id": "0er37zrhREBB",
        "colab_type": "text"
      },
      "source": [
        "**Dropping the irrevant coloumns. **\n",
        "Note: Below i had seen how many null values each has and found feature 'Age' to have around 687 null values so i dropped it here only."
      ]
    },
    {
      "cell_type": "code",
      "metadata": {
        "id": "MOnWToSwifF8",
        "colab_type": "code",
        "colab": {
          "base_uri": "https://localhost:8080/",
          "height": 390
        },
        "outputId": "e3a03048-a8f8-4328-8d70-42bee7b862f5"
      },
      "source": [
        "new_data = raw_data.drop(['Name','Ticket','Cabin','Age'],axis=1)\n",
        "new_data.describe(include='all')"
      ],
      "execution_count": 54,
      "outputs": [
        {
          "output_type": "execute_result",
          "data": {
            "text/html": [
              "<div>\n",
              "<style scoped>\n",
              "    .dataframe tbody tr th:only-of-type {\n",
              "        vertical-align: middle;\n",
              "    }\n",
              "\n",
              "    .dataframe tbody tr th {\n",
              "        vertical-align: top;\n",
              "    }\n",
              "\n",
              "    .dataframe thead th {\n",
              "        text-align: right;\n",
              "    }\n",
              "</style>\n",
              "<table border=\"1\" class=\"dataframe\">\n",
              "  <thead>\n",
              "    <tr style=\"text-align: right;\">\n",
              "      <th></th>\n",
              "      <th>PassengerId</th>\n",
              "      <th>Survived</th>\n",
              "      <th>Pclass</th>\n",
              "      <th>Sex</th>\n",
              "      <th>SibSp</th>\n",
              "      <th>Parch</th>\n",
              "      <th>Fare</th>\n",
              "      <th>Embarked</th>\n",
              "    </tr>\n",
              "  </thead>\n",
              "  <tbody>\n",
              "    <tr>\n",
              "      <th>count</th>\n",
              "      <td>891.000000</td>\n",
              "      <td>891.000000</td>\n",
              "      <td>891.000000</td>\n",
              "      <td>891</td>\n",
              "      <td>891.000000</td>\n",
              "      <td>891.000000</td>\n",
              "      <td>891.000000</td>\n",
              "      <td>889</td>\n",
              "    </tr>\n",
              "    <tr>\n",
              "      <th>unique</th>\n",
              "      <td>NaN</td>\n",
              "      <td>NaN</td>\n",
              "      <td>NaN</td>\n",
              "      <td>2</td>\n",
              "      <td>NaN</td>\n",
              "      <td>NaN</td>\n",
              "      <td>NaN</td>\n",
              "      <td>3</td>\n",
              "    </tr>\n",
              "    <tr>\n",
              "      <th>top</th>\n",
              "      <td>NaN</td>\n",
              "      <td>NaN</td>\n",
              "      <td>NaN</td>\n",
              "      <td>male</td>\n",
              "      <td>NaN</td>\n",
              "      <td>NaN</td>\n",
              "      <td>NaN</td>\n",
              "      <td>S</td>\n",
              "    </tr>\n",
              "    <tr>\n",
              "      <th>freq</th>\n",
              "      <td>NaN</td>\n",
              "      <td>NaN</td>\n",
              "      <td>NaN</td>\n",
              "      <td>577</td>\n",
              "      <td>NaN</td>\n",
              "      <td>NaN</td>\n",
              "      <td>NaN</td>\n",
              "      <td>644</td>\n",
              "    </tr>\n",
              "    <tr>\n",
              "      <th>mean</th>\n",
              "      <td>446.000000</td>\n",
              "      <td>0.383838</td>\n",
              "      <td>2.308642</td>\n",
              "      <td>NaN</td>\n",
              "      <td>0.523008</td>\n",
              "      <td>0.381594</td>\n",
              "      <td>32.204208</td>\n",
              "      <td>NaN</td>\n",
              "    </tr>\n",
              "    <tr>\n",
              "      <th>std</th>\n",
              "      <td>257.353842</td>\n",
              "      <td>0.486592</td>\n",
              "      <td>0.836071</td>\n",
              "      <td>NaN</td>\n",
              "      <td>1.102743</td>\n",
              "      <td>0.806057</td>\n",
              "      <td>49.693429</td>\n",
              "      <td>NaN</td>\n",
              "    </tr>\n",
              "    <tr>\n",
              "      <th>min</th>\n",
              "      <td>1.000000</td>\n",
              "      <td>0.000000</td>\n",
              "      <td>1.000000</td>\n",
              "      <td>NaN</td>\n",
              "      <td>0.000000</td>\n",
              "      <td>0.000000</td>\n",
              "      <td>0.000000</td>\n",
              "      <td>NaN</td>\n",
              "    </tr>\n",
              "    <tr>\n",
              "      <th>25%</th>\n",
              "      <td>223.500000</td>\n",
              "      <td>0.000000</td>\n",
              "      <td>2.000000</td>\n",
              "      <td>NaN</td>\n",
              "      <td>0.000000</td>\n",
              "      <td>0.000000</td>\n",
              "      <td>7.910400</td>\n",
              "      <td>NaN</td>\n",
              "    </tr>\n",
              "    <tr>\n",
              "      <th>50%</th>\n",
              "      <td>446.000000</td>\n",
              "      <td>0.000000</td>\n",
              "      <td>3.000000</td>\n",
              "      <td>NaN</td>\n",
              "      <td>0.000000</td>\n",
              "      <td>0.000000</td>\n",
              "      <td>14.454200</td>\n",
              "      <td>NaN</td>\n",
              "    </tr>\n",
              "    <tr>\n",
              "      <th>75%</th>\n",
              "      <td>668.500000</td>\n",
              "      <td>1.000000</td>\n",
              "      <td>3.000000</td>\n",
              "      <td>NaN</td>\n",
              "      <td>1.000000</td>\n",
              "      <td>0.000000</td>\n",
              "      <td>31.000000</td>\n",
              "      <td>NaN</td>\n",
              "    </tr>\n",
              "    <tr>\n",
              "      <th>max</th>\n",
              "      <td>891.000000</td>\n",
              "      <td>1.000000</td>\n",
              "      <td>3.000000</td>\n",
              "      <td>NaN</td>\n",
              "      <td>8.000000</td>\n",
              "      <td>6.000000</td>\n",
              "      <td>512.329200</td>\n",
              "      <td>NaN</td>\n",
              "    </tr>\n",
              "  </tbody>\n",
              "</table>\n",
              "</div>"
            ],
            "text/plain": [
              "        PassengerId    Survived      Pclass  ...       Parch        Fare  Embarked\n",
              "count    891.000000  891.000000  891.000000  ...  891.000000  891.000000       889\n",
              "unique          NaN         NaN         NaN  ...         NaN         NaN         3\n",
              "top             NaN         NaN         NaN  ...         NaN         NaN         S\n",
              "freq            NaN         NaN         NaN  ...         NaN         NaN       644\n",
              "mean     446.000000    0.383838    2.308642  ...    0.381594   32.204208       NaN\n",
              "std      257.353842    0.486592    0.836071  ...    0.806057   49.693429       NaN\n",
              "min        1.000000    0.000000    1.000000  ...    0.000000    0.000000       NaN\n",
              "25%      223.500000    0.000000    2.000000  ...    0.000000    7.910400       NaN\n",
              "50%      446.000000    0.000000    3.000000  ...    0.000000   14.454200       NaN\n",
              "75%      668.500000    1.000000    3.000000  ...    0.000000   31.000000       NaN\n",
              "max      891.000000    1.000000    3.000000  ...    6.000000  512.329200       NaN\n",
              "\n",
              "[11 rows x 8 columns]"
            ]
          },
          "metadata": {
            "tags": []
          },
          "execution_count": 54
        }
      ]
    },
    {
      "cell_type": "markdown",
      "metadata": {
        "id": "rWbJHUpGRXH6",
        "colab_type": "text"
      },
      "source": [
        "***To check the null values:***"
      ]
    },
    {
      "cell_type": "code",
      "metadata": {
        "id": "sQ-ppaJXkFra",
        "colab_type": "code",
        "colab": {
          "base_uri": "https://localhost:8080/",
          "height": 170
        },
        "outputId": "4cbef296-eba0-41b6-f16a-d9a221609056"
      },
      "source": [
        "new_data.isnull().sum()"
      ],
      "execution_count": 55,
      "outputs": [
        {
          "output_type": "execute_result",
          "data": {
            "text/plain": [
              "PassengerId    0\n",
              "Survived       0\n",
              "Pclass         0\n",
              "Sex            0\n",
              "SibSp          0\n",
              "Parch          0\n",
              "Fare           0\n",
              "Embarked       2\n",
              "dtype: int64"
            ]
          },
          "metadata": {
            "tags": []
          },
          "execution_count": 55
        }
      ]
    },
    {
      "cell_type": "markdown",
      "metadata": {
        "id": "Q0yU1kftRcwP",
        "colab_type": "text"
      },
      "source": [
        "***Dropping the null values***"
      ]
    },
    {
      "cell_type": "code",
      "metadata": {
        "id": "Pz_hWtaTRyBC",
        "colab_type": "code",
        "colab": {
          "base_uri": "https://localhost:8080/",
          "height": 170
        },
        "outputId": "808ef2e4-1895-4336-9615-6066173bd304"
      },
      "source": [
        "data = new_data.dropna(axis=0)\n",
        "data.isnull().sum()\n"
      ],
      "execution_count": 56,
      "outputs": [
        {
          "output_type": "execute_result",
          "data": {
            "text/plain": [
              "PassengerId    0\n",
              "Survived       0\n",
              "Pclass         0\n",
              "Sex            0\n",
              "SibSp          0\n",
              "Parch          0\n",
              "Fare           0\n",
              "Embarked       0\n",
              "dtype: int64"
            ]
          },
          "metadata": {
            "tags": []
          },
          "execution_count": 56
        }
      ]
    },
    {
      "cell_type": "code",
      "metadata": {
        "id": "Vhmd6Kn2SdDN",
        "colab_type": "code",
        "colab": {
          "base_uri": "https://localhost:8080/",
          "height": 390
        },
        "outputId": "b5652ba4-8624-4e4e-c4fd-64ebf849e738"
      },
      "source": [
        "data.describe(include= 'all')"
      ],
      "execution_count": 57,
      "outputs": [
        {
          "output_type": "execute_result",
          "data": {
            "text/html": [
              "<div>\n",
              "<style scoped>\n",
              "    .dataframe tbody tr th:only-of-type {\n",
              "        vertical-align: middle;\n",
              "    }\n",
              "\n",
              "    .dataframe tbody tr th {\n",
              "        vertical-align: top;\n",
              "    }\n",
              "\n",
              "    .dataframe thead th {\n",
              "        text-align: right;\n",
              "    }\n",
              "</style>\n",
              "<table border=\"1\" class=\"dataframe\">\n",
              "  <thead>\n",
              "    <tr style=\"text-align: right;\">\n",
              "      <th></th>\n",
              "      <th>PassengerId</th>\n",
              "      <th>Survived</th>\n",
              "      <th>Pclass</th>\n",
              "      <th>Sex</th>\n",
              "      <th>SibSp</th>\n",
              "      <th>Parch</th>\n",
              "      <th>Fare</th>\n",
              "      <th>Embarked</th>\n",
              "    </tr>\n",
              "  </thead>\n",
              "  <tbody>\n",
              "    <tr>\n",
              "      <th>count</th>\n",
              "      <td>889.000000</td>\n",
              "      <td>889.000000</td>\n",
              "      <td>889.000000</td>\n",
              "      <td>889</td>\n",
              "      <td>889.000000</td>\n",
              "      <td>889.000000</td>\n",
              "      <td>889.000000</td>\n",
              "      <td>889</td>\n",
              "    </tr>\n",
              "    <tr>\n",
              "      <th>unique</th>\n",
              "      <td>NaN</td>\n",
              "      <td>NaN</td>\n",
              "      <td>NaN</td>\n",
              "      <td>2</td>\n",
              "      <td>NaN</td>\n",
              "      <td>NaN</td>\n",
              "      <td>NaN</td>\n",
              "      <td>3</td>\n",
              "    </tr>\n",
              "    <tr>\n",
              "      <th>top</th>\n",
              "      <td>NaN</td>\n",
              "      <td>NaN</td>\n",
              "      <td>NaN</td>\n",
              "      <td>male</td>\n",
              "      <td>NaN</td>\n",
              "      <td>NaN</td>\n",
              "      <td>NaN</td>\n",
              "      <td>S</td>\n",
              "    </tr>\n",
              "    <tr>\n",
              "      <th>freq</th>\n",
              "      <td>NaN</td>\n",
              "      <td>NaN</td>\n",
              "      <td>NaN</td>\n",
              "      <td>577</td>\n",
              "      <td>NaN</td>\n",
              "      <td>NaN</td>\n",
              "      <td>NaN</td>\n",
              "      <td>644</td>\n",
              "    </tr>\n",
              "    <tr>\n",
              "      <th>mean</th>\n",
              "      <td>446.000000</td>\n",
              "      <td>0.382452</td>\n",
              "      <td>2.311586</td>\n",
              "      <td>NaN</td>\n",
              "      <td>0.524184</td>\n",
              "      <td>0.382452</td>\n",
              "      <td>32.096681</td>\n",
              "      <td>NaN</td>\n",
              "    </tr>\n",
              "    <tr>\n",
              "      <th>std</th>\n",
              "      <td>256.998173</td>\n",
              "      <td>0.486260</td>\n",
              "      <td>0.834700</td>\n",
              "      <td>NaN</td>\n",
              "      <td>1.103705</td>\n",
              "      <td>0.806761</td>\n",
              "      <td>49.697504</td>\n",
              "      <td>NaN</td>\n",
              "    </tr>\n",
              "    <tr>\n",
              "      <th>min</th>\n",
              "      <td>1.000000</td>\n",
              "      <td>0.000000</td>\n",
              "      <td>1.000000</td>\n",
              "      <td>NaN</td>\n",
              "      <td>0.000000</td>\n",
              "      <td>0.000000</td>\n",
              "      <td>0.000000</td>\n",
              "      <td>NaN</td>\n",
              "    </tr>\n",
              "    <tr>\n",
              "      <th>25%</th>\n",
              "      <td>224.000000</td>\n",
              "      <td>0.000000</td>\n",
              "      <td>2.000000</td>\n",
              "      <td>NaN</td>\n",
              "      <td>0.000000</td>\n",
              "      <td>0.000000</td>\n",
              "      <td>7.895800</td>\n",
              "      <td>NaN</td>\n",
              "    </tr>\n",
              "    <tr>\n",
              "      <th>50%</th>\n",
              "      <td>446.000000</td>\n",
              "      <td>0.000000</td>\n",
              "      <td>3.000000</td>\n",
              "      <td>NaN</td>\n",
              "      <td>0.000000</td>\n",
              "      <td>0.000000</td>\n",
              "      <td>14.454200</td>\n",
              "      <td>NaN</td>\n",
              "    </tr>\n",
              "    <tr>\n",
              "      <th>75%</th>\n",
              "      <td>668.000000</td>\n",
              "      <td>1.000000</td>\n",
              "      <td>3.000000</td>\n",
              "      <td>NaN</td>\n",
              "      <td>1.000000</td>\n",
              "      <td>0.000000</td>\n",
              "      <td>31.000000</td>\n",
              "      <td>NaN</td>\n",
              "    </tr>\n",
              "    <tr>\n",
              "      <th>max</th>\n",
              "      <td>891.000000</td>\n",
              "      <td>1.000000</td>\n",
              "      <td>3.000000</td>\n",
              "      <td>NaN</td>\n",
              "      <td>8.000000</td>\n",
              "      <td>6.000000</td>\n",
              "      <td>512.329200</td>\n",
              "      <td>NaN</td>\n",
              "    </tr>\n",
              "  </tbody>\n",
              "</table>\n",
              "</div>"
            ],
            "text/plain": [
              "        PassengerId    Survived      Pclass  ...       Parch        Fare  Embarked\n",
              "count    889.000000  889.000000  889.000000  ...  889.000000  889.000000       889\n",
              "unique          NaN         NaN         NaN  ...         NaN         NaN         3\n",
              "top             NaN         NaN         NaN  ...         NaN         NaN         S\n",
              "freq            NaN         NaN         NaN  ...         NaN         NaN       644\n",
              "mean     446.000000    0.382452    2.311586  ...    0.382452   32.096681       NaN\n",
              "std      256.998173    0.486260    0.834700  ...    0.806761   49.697504       NaN\n",
              "min        1.000000    0.000000    1.000000  ...    0.000000    0.000000       NaN\n",
              "25%      224.000000    0.000000    2.000000  ...    0.000000    7.895800       NaN\n",
              "50%      446.000000    0.000000    3.000000  ...    0.000000   14.454200       NaN\n",
              "75%      668.000000    1.000000    3.000000  ...    0.000000   31.000000       NaN\n",
              "max      891.000000    1.000000    3.000000  ...    6.000000  512.329200       NaN\n",
              "\n",
              "[11 rows x 8 columns]"
            ]
          },
          "metadata": {
            "tags": []
          },
          "execution_count": 57
        }
      ]
    },
    {
      "cell_type": "markdown",
      "metadata": {
        "id": "t8jB6Ssufflw",
        "colab_type": "text"
      },
      "source": [
        "***Plotting various features against the independent feature:***\n",
        "Note: Does not include the dummy variables"
      ]
    },
    {
      "cell_type": "code",
      "metadata": {
        "id": "8yLdUi3vlcvR",
        "colab_type": "code",
        "colab": {
          "base_uri": "https://localhost:8080/",
          "height": 302
        },
        "outputId": "dc41e5c9-5950-437b-e40b-398f6ed5d53f"
      },
      "source": [
        "sns.distplot(data['Pclass'])"
      ],
      "execution_count": 58,
      "outputs": [
        {
          "output_type": "execute_result",
          "data": {
            "text/plain": [
              "<matplotlib.axes._subplots.AxesSubplot at 0x7fcb8d0d1b38>"
            ]
          },
          "metadata": {
            "tags": []
          },
          "execution_count": 58
        },
        {
          "output_type": "display_data",
          "data": {
            "image/png": "[encoded data removed]",
            "text/plain": [
              "<Figure size 432x288 with 1 Axes>"
            ]
          },
          "metadata": {
            "tags": []
          }
        }
      ]
    },
    {
      "cell_type": "code",
      "metadata": {
        "id": "G3QNgvUGnvtD",
        "colab_type": "code",
        "colab": {
          "base_uri": "https://localhost:8080/",
          "height": 302
        },
        "outputId": "eb435bb0-6568-46e1-9164-516f6d6988a6"
      },
      "source": [
        "sns.distplot(data['SibSp'])"
      ],
      "execution_count": 59,
      "outputs": [
        {
          "output_type": "execute_result",
          "data": {
            "text/plain": [
              "<matplotlib.axes._subplots.AxesSubplot at 0x7fcb8a2f9198>"
            ]
          },
          "metadata": {
            "tags": []
          },
          "execution_count": 59
        },
        {
          "output_type": "display_data",
          "data": {
            "image/png": "[encoded data removed]",
            "text/plain": [
              "<Figure size 432x288 with 1 Axes>"
            ]
          },
          "metadata": {
            "tags": []
          }
        }
      ]
    },
    {
      "cell_type": "markdown",
      "metadata": {
        "id": "_Vmz13hpTcek",
        "colab_type": "text"
      },
      "source": [
        "As we can see this is not normally distributed and has outliers, so  trying to bring it to normal."
      ]
    },
    {
      "cell_type": "code",
      "metadata": {
        "id": "GmD9J9H0oMFz",
        "colab_type": "code",
        "colab": {
          "base_uri": "https://localhost:8080/",
          "height": 390
        },
        "outputId": "cbc7fb57-06bb-4ff5-eb82-b8029d32d5f1"
      },
      "source": [
        "q=data['SibSp'].quantile(0.99)\n",
        "data1=data[data['SibSp']<q]\n",
        "data1.describe(include='all')"
      ],
      "execution_count": 60,
      "outputs": [
        {
          "output_type": "execute_result",
          "data": {
            "text/html": [
              "<div>\n",
              "<style scoped>\n",
              "    .dataframe tbody tr th:only-of-type {\n",
              "        vertical-align: middle;\n",
              "    }\n",
              "\n",
              "    .dataframe tbody tr th {\n",
              "        vertical-align: top;\n",
              "    }\n",
              "\n",
              "    .dataframe thead th {\n",
              "        text-align: right;\n",
              "    }\n",
              "</style>\n",
              "<table border=\"1\" class=\"dataframe\">\n",
              "  <thead>\n",
              "    <tr style=\"text-align: right;\">\n",
              "      <th></th>\n",
              "      <th>PassengerId</th>\n",
              "      <th>Survived</th>\n",
              "      <th>Pclass</th>\n",
              "      <th>Sex</th>\n",
              "      <th>SibSp</th>\n",
              "      <th>Parch</th>\n",
              "      <th>Fare</th>\n",
              "      <th>Embarked</th>\n",
              "    </tr>\n",
              "  </thead>\n",
              "  <tbody>\n",
              "    <tr>\n",
              "      <th>count</th>\n",
              "      <td>877.000000</td>\n",
              "      <td>877.000000</td>\n",
              "      <td>877.000000</td>\n",
              "      <td>877</td>\n",
              "      <td>877.000000</td>\n",
              "      <td>877.000000</td>\n",
              "      <td>877.000000</td>\n",
              "      <td>877</td>\n",
              "    </tr>\n",
              "    <tr>\n",
              "      <th>unique</th>\n",
              "      <td>NaN</td>\n",
              "      <td>NaN</td>\n",
              "      <td>NaN</td>\n",
              "      <td>2</td>\n",
              "      <td>NaN</td>\n",
              "      <td>NaN</td>\n",
              "      <td>NaN</td>\n",
              "      <td>3</td>\n",
              "    </tr>\n",
              "    <tr>\n",
              "      <th>top</th>\n",
              "      <td>NaN</td>\n",
              "      <td>NaN</td>\n",
              "      <td>NaN</td>\n",
              "      <td>male</td>\n",
              "      <td>NaN</td>\n",
              "      <td>NaN</td>\n",
              "      <td>NaN</td>\n",
              "      <td>S</td>\n",
              "    </tr>\n",
              "    <tr>\n",
              "      <th>freq</th>\n",
              "      <td>NaN</td>\n",
              "      <td>NaN</td>\n",
              "      <td>NaN</td>\n",
              "      <td>569</td>\n",
              "      <td>NaN</td>\n",
              "      <td>NaN</td>\n",
              "      <td>NaN</td>\n",
              "      <td>632</td>\n",
              "    </tr>\n",
              "    <tr>\n",
              "      <th>mean</th>\n",
              "      <td>446.337514</td>\n",
              "      <td>0.387685</td>\n",
              "      <td>2.302166</td>\n",
              "      <td>NaN</td>\n",
              "      <td>0.438997</td>\n",
              "      <td>0.360319</td>\n",
              "      <td>31.713340</td>\n",
              "      <td>NaN</td>\n",
              "    </tr>\n",
              "    <tr>\n",
              "      <th>std</th>\n",
              "      <td>256.464868</td>\n",
              "      <td>0.487500</td>\n",
              "      <td>0.836473</td>\n",
              "      <td>NaN</td>\n",
              "      <td>0.816487</td>\n",
              "      <td>0.789586</td>\n",
              "      <td>49.910603</td>\n",
              "      <td>NaN</td>\n",
              "    </tr>\n",
              "    <tr>\n",
              "      <th>min</th>\n",
              "      <td>1.000000</td>\n",
              "      <td>0.000000</td>\n",
              "      <td>1.000000</td>\n",
              "      <td>NaN</td>\n",
              "      <td>0.000000</td>\n",
              "      <td>0.000000</td>\n",
              "      <td>0.000000</td>\n",
              "      <td>NaN</td>\n",
              "    </tr>\n",
              "    <tr>\n",
              "      <th>25%</th>\n",
              "      <td>226.000000</td>\n",
              "      <td>0.000000</td>\n",
              "      <td>2.000000</td>\n",
              "      <td>NaN</td>\n",
              "      <td>0.000000</td>\n",
              "      <td>0.000000</td>\n",
              "      <td>7.895800</td>\n",
              "      <td>NaN</td>\n",
              "    </tr>\n",
              "    <tr>\n",
              "      <th>50%</th>\n",
              "      <td>447.000000</td>\n",
              "      <td>0.000000</td>\n",
              "      <td>3.000000</td>\n",
              "      <td>NaN</td>\n",
              "      <td>0.000000</td>\n",
              "      <td>0.000000</td>\n",
              "      <td>14.400000</td>\n",
              "      <td>NaN</td>\n",
              "    </tr>\n",
              "    <tr>\n",
              "      <th>75%</th>\n",
              "      <td>667.000000</td>\n",
              "      <td>1.000000</td>\n",
              "      <td>3.000000</td>\n",
              "      <td>NaN</td>\n",
              "      <td>1.000000</td>\n",
              "      <td>0.000000</td>\n",
              "      <td>30.070800</td>\n",
              "      <td>NaN</td>\n",
              "    </tr>\n",
              "    <tr>\n",
              "      <th>max</th>\n",
              "      <td>891.000000</td>\n",
              "      <td>1.000000</td>\n",
              "      <td>3.000000</td>\n",
              "      <td>NaN</td>\n",
              "      <td>4.000000</td>\n",
              "      <td>6.000000</td>\n",
              "      <td>512.329200</td>\n",
              "      <td>NaN</td>\n",
              "    </tr>\n",
              "  </tbody>\n",
              "</table>\n",
              "</div>"
            ],
            "text/plain": [
              "        PassengerId    Survived      Pclass  ...       Parch        Fare  Embarked\n",
              "count    877.000000  877.000000  877.000000  ...  877.000000  877.000000       877\n",
              "unique          NaN         NaN         NaN  ...         NaN         NaN         3\n",
              "top             NaN         NaN         NaN  ...         NaN         NaN         S\n",
              "freq            NaN         NaN         NaN  ...         NaN         NaN       632\n",
              "mean     446.337514    0.387685    2.302166  ...    0.360319   31.713340       NaN\n",
              "std      256.464868    0.487500    0.836473  ...    0.789586   49.910603       NaN\n",
              "min        1.000000    0.000000    1.000000  ...    0.000000    0.000000       NaN\n",
              "25%      226.000000    0.000000    2.000000  ...    0.000000    7.895800       NaN\n",
              "50%      447.000000    0.000000    3.000000  ...    0.000000   14.400000       NaN\n",
              "75%      667.000000    1.000000    3.000000  ...    0.000000   30.070800       NaN\n",
              "max      891.000000    1.000000    3.000000  ...    6.000000  512.329200       NaN\n",
              "\n",
              "[11 rows x 8 columns]"
            ]
          },
          "metadata": {
            "tags": []
          },
          "execution_count": 60
        }
      ]
    },
    {
      "cell_type": "code",
      "metadata": {
        "id": "Qk01S61bobW0",
        "colab_type": "code",
        "colab": {
          "base_uri": "https://localhost:8080/",
          "height": 302
        },
        "outputId": "25ea8e88-0960-4c53-d9f6-368635387777"
      },
      "source": [
        "sns.distplot(data['Parch'])"
      ],
      "execution_count": 61,
      "outputs": [
        {
          "output_type": "execute_result",
          "data": {
            "text/plain": [
              "<matplotlib.axes._subplots.AxesSubplot at 0x7fcb8d3e9828>"
            ]
          },
          "metadata": {
            "tags": []
          },
          "execution_count": 61
        },
        {
          "output_type": "display_data",
          "data": {
            "image/png": "[encoded data removed]",
            "text/plain": [
              "<Figure size 432x288 with 1 Axes>"
            ]
          },
          "metadata": {
            "tags": []
          }
        }
      ]
    },
    {
      "cell_type": "markdown",
      "metadata": {
        "id": "8NZOs9QFTrMc",
        "colab_type": "text"
      },
      "source": [
        "Above plot is a very disturbed plot, so have kept it for further improvement."
      ]
    },
    {
      "cell_type": "code",
      "metadata": {
        "id": "mnT7IhtrouPB",
        "colab_type": "code",
        "colab": {
          "base_uri": "https://localhost:8080/",
          "height": 302
        },
        "outputId": "2c59e938-4b51-4025-8949-267dab4cf616"
      },
      "source": [
        "sns.distplot(data['Fare'])"
      ],
      "execution_count": 62,
      "outputs": [
        {
          "output_type": "execute_result",
          "data": {
            "text/plain": [
              "<matplotlib.axes._subplots.AxesSubplot at 0x7fcb8a230c50>"
            ]
          },
          "metadata": {
            "tags": []
          },
          "execution_count": 62
        },
        {
          "output_type": "display_data",
          "data": {
            "image/png": "[encoded data removed]",
            "text/plain": [
              "<Figure size 432x288 with 1 Axes>"
            ]
          },
          "metadata": {
            "tags": []
          }
        }
      ]
    },
    {
      "cell_type": "code",
      "metadata": {
        "id": "vyXpnA9aozFB",
        "colab_type": "code",
        "colab": {
          "base_uri": "https://localhost:8080/",
          "height": 390
        },
        "outputId": "0a256ce9-7d04-412e-86e4-82f7613bd8e5"
      },
      "source": [
        "q=data['Fare'].quantile(0.99)\n",
        "data1=data[data['Fare']<q]\n",
        "data1.describe(include='all')"
      ],
      "execution_count": 63,
      "outputs": [
        {
          "output_type": "execute_result",
          "data": {
            "text/html": [
              "<div>\n",
              "<style scoped>\n",
              "    .dataframe tbody tr th:only-of-type {\n",
              "        vertical-align: middle;\n",
              "    }\n",
              "\n",
              "    .dataframe tbody tr th {\n",
              "        vertical-align: top;\n",
              "    }\n",
              "\n",
              "    .dataframe thead th {\n",
              "        text-align: right;\n",
              "    }\n",
              "</style>\n",
              "<table border=\"1\" class=\"dataframe\">\n",
              "  <thead>\n",
              "    <tr style=\"text-align: right;\">\n",
              "      <th></th>\n",
              "      <th>PassengerId</th>\n",
              "      <th>Survived</th>\n",
              "      <th>Pclass</th>\n",
              "      <th>Sex</th>\n",
              "      <th>SibSp</th>\n",
              "      <th>Parch</th>\n",
              "      <th>Fare</th>\n",
              "      <th>Embarked</th>\n",
              "    </tr>\n",
              "  </thead>\n",
              "  <tbody>\n",
              "    <tr>\n",
              "      <th>count</th>\n",
              "      <td>880.000000</td>\n",
              "      <td>880.000000</td>\n",
              "      <td>880.00000</td>\n",
              "      <td>880</td>\n",
              "      <td>880.000000</td>\n",
              "      <td>880.000000</td>\n",
              "      <td>880.000000</td>\n",
              "      <td>880</td>\n",
              "    </tr>\n",
              "    <tr>\n",
              "      <th>unique</th>\n",
              "      <td>NaN</td>\n",
              "      <td>NaN</td>\n",
              "      <td>NaN</td>\n",
              "      <td>2</td>\n",
              "      <td>NaN</td>\n",
              "      <td>NaN</td>\n",
              "      <td>NaN</td>\n",
              "      <td>3</td>\n",
              "    </tr>\n",
              "    <tr>\n",
              "      <th>top</th>\n",
              "      <td>NaN</td>\n",
              "      <td>NaN</td>\n",
              "      <td>NaN</td>\n",
              "      <td>male</td>\n",
              "      <td>NaN</td>\n",
              "      <td>NaN</td>\n",
              "      <td>NaN</td>\n",
              "      <td>S</td>\n",
              "    </tr>\n",
              "    <tr>\n",
              "      <th>freq</th>\n",
              "      <td>NaN</td>\n",
              "      <td>NaN</td>\n",
              "      <td>NaN</td>\n",
              "      <td>573</td>\n",
              "      <td>NaN</td>\n",
              "      <td>NaN</td>\n",
              "      <td>NaN</td>\n",
              "      <td>640</td>\n",
              "    </tr>\n",
              "    <tr>\n",
              "      <th>mean</th>\n",
              "      <td>446.436364</td>\n",
              "      <td>0.378409</td>\n",
              "      <td>2.32500</td>\n",
              "      <td>NaN</td>\n",
              "      <td>0.513636</td>\n",
              "      <td>0.369318</td>\n",
              "      <td>28.886604</td>\n",
              "      <td>NaN</td>\n",
              "    </tr>\n",
              "    <tr>\n",
              "      <th>std</th>\n",
              "      <td>256.998334</td>\n",
              "      <td>0.485266</td>\n",
              "      <td>0.82829</td>\n",
              "      <td>NaN</td>\n",
              "      <td>1.097021</td>\n",
              "      <td>0.791717</td>\n",
              "      <td>36.529792</td>\n",
              "      <td>NaN</td>\n",
              "    </tr>\n",
              "    <tr>\n",
              "      <th>min</th>\n",
              "      <td>1.000000</td>\n",
              "      <td>0.000000</td>\n",
              "      <td>1.00000</td>\n",
              "      <td>NaN</td>\n",
              "      <td>0.000000</td>\n",
              "      <td>0.000000</td>\n",
              "      <td>0.000000</td>\n",
              "      <td>NaN</td>\n",
              "    </tr>\n",
              "    <tr>\n",
              "      <th>25%</th>\n",
              "      <td>223.750000</td>\n",
              "      <td>0.000000</td>\n",
              "      <td>2.00000</td>\n",
              "      <td>NaN</td>\n",
              "      <td>0.000000</td>\n",
              "      <td>0.000000</td>\n",
              "      <td>7.895800</td>\n",
              "      <td>NaN</td>\n",
              "    </tr>\n",
              "    <tr>\n",
              "      <th>50%</th>\n",
              "      <td>447.500000</td>\n",
              "      <td>0.000000</td>\n",
              "      <td>3.00000</td>\n",
              "      <td>NaN</td>\n",
              "      <td>0.000000</td>\n",
              "      <td>0.000000</td>\n",
              "      <td>14.427100</td>\n",
              "      <td>NaN</td>\n",
              "    </tr>\n",
              "    <tr>\n",
              "      <th>75%</th>\n",
              "      <td>667.250000</td>\n",
              "      <td>1.000000</td>\n",
              "      <td>3.00000</td>\n",
              "      <td>NaN</td>\n",
              "      <td>1.000000</td>\n",
              "      <td>0.000000</td>\n",
              "      <td>30.500000</td>\n",
              "      <td>NaN</td>\n",
              "    </tr>\n",
              "    <tr>\n",
              "      <th>max</th>\n",
              "      <td>891.000000</td>\n",
              "      <td>1.000000</td>\n",
              "      <td>3.00000</td>\n",
              "      <td>NaN</td>\n",
              "      <td>8.000000</td>\n",
              "      <td>6.000000</td>\n",
              "      <td>247.520800</td>\n",
              "      <td>NaN</td>\n",
              "    </tr>\n",
              "  </tbody>\n",
              "</table>\n",
              "</div>"
            ],
            "text/plain": [
              "        PassengerId    Survived     Pclass  ...       Parch        Fare  Embarked\n",
              "count    880.000000  880.000000  880.00000  ...  880.000000  880.000000       880\n",
              "unique          NaN         NaN        NaN  ...         NaN         NaN         3\n",
              "top             NaN         NaN        NaN  ...         NaN         NaN         S\n",
              "freq            NaN         NaN        NaN  ...         NaN         NaN       640\n",
              "mean     446.436364    0.378409    2.32500  ...    0.369318   28.886604       NaN\n",
              "std      256.998334    0.485266    0.82829  ...    0.791717   36.529792       NaN\n",
              "min        1.000000    0.000000    1.00000  ...    0.000000    0.000000       NaN\n",
              "25%      223.750000    0.000000    2.00000  ...    0.000000    7.895800       NaN\n",
              "50%      447.500000    0.000000    3.00000  ...    0.000000   14.427100       NaN\n",
              "75%      667.250000    1.000000    3.00000  ...    0.000000   30.500000       NaN\n",
              "max      891.000000    1.000000    3.00000  ...    6.000000  247.520800       NaN\n",
              "\n",
              "[11 rows x 8 columns]"
            ]
          },
          "metadata": {
            "tags": []
          },
          "execution_count": 63
        }
      ]
    },
    {
      "cell_type": "code",
      "metadata": {
        "id": "Jbgiat0_o-bM",
        "colab_type": "code",
        "colab": {
          "base_uri": "https://localhost:8080/",
          "height": 302
        },
        "outputId": "0e0e62c1-4428-4b3e-b373-07278db4985f"
      },
      "source": [
        "sns.distplot(data['Fare'])"
      ],
      "execution_count": 64,
      "outputs": [
        {
          "output_type": "execute_result",
          "data": {
            "text/plain": [
              "<matplotlib.axes._subplots.AxesSubplot at 0x7fcb8a0f3c18>"
            ]
          },
          "metadata": {
            "tags": []
          },
          "execution_count": 64
        },
        {
          "output_type": "display_data",
          "data": {
            "image/png": "[encoded data removed]",
            "text/plain": [
              "<Figure size 432x288 with 1 Axes>"
            ]
          },
          "metadata": {
            "tags": []
          }
        }
      ]
    },
    {
      "cell_type": "code",
      "metadata": {
        "id": "TYdHAhrdpOSE",
        "colab_type": "code",
        "colab": {
          "base_uri": "https://localhost:8080/",
          "height": 302
        },
        "outputId": "f56ead59-2724-4823-c508-6e5c5ee635fc"
      },
      "source": [
        "data2=data1[data1['Parch']<5]\n",
        "sns.distplot(data['Parch'])"
      ],
      "execution_count": 65,
      "outputs": [
        {
          "output_type": "execute_result",
          "data": {
            "text/plain": [
              "<matplotlib.axes._subplots.AxesSubplot at 0x7fcb89fb4518>"
            ]
          },
          "metadata": {
            "tags": []
          },
          "execution_count": 65
        },
        {
          "output_type": "display_data",
          "data": {
            "image/png": "[encoded data removed]",
            "text/plain": [
              "<Figure size 432x288 with 1 Axes>"
            ]
          },
          "metadata": {
            "tags": []
          }
        }
      ]
    },
    {
      "cell_type": "markdown",
      "metadata": {
        "id": "pOd879AHT6V2",
        "colab_type": "text"
      },
      "source": [
        "Whatever is cleaned is included as the new data."
      ]
    },
    {
      "cell_type": "code",
      "metadata": {
        "id": "0VwSVyhgqp2S",
        "colab_type": "code",
        "colab": {
          "base_uri": "https://localhost:8080/",
          "height": 297
        },
        "outputId": "c65b4e77-0c16-4462-f4d2-c7f8a481020f"
      },
      "source": [
        "data_cleaned=data2.reset_index(drop=True)\n",
        "data_cleaned.describe()"
      ],
      "execution_count": 66,
      "outputs": [
        {
          "output_type": "execute_result",
          "data": {
            "text/html": [
              "<div>\n",
              "<style scoped>\n",
              "    .dataframe tbody tr th:only-of-type {\n",
              "        vertical-align: middle;\n",
              "    }\n",
              "\n",
              "    .dataframe tbody tr th {\n",
              "        vertical-align: top;\n",
              "    }\n",
              "\n",
              "    .dataframe thead th {\n",
              "        text-align: right;\n",
              "    }\n",
              "</style>\n",
              "<table border=\"1\" class=\"dataframe\">\n",
              "  <thead>\n",
              "    <tr style=\"text-align: right;\">\n",
              "      <th></th>\n",
              "      <th>PassengerId</th>\n",
              "      <th>Survived</th>\n",
              "      <th>Pclass</th>\n",
              "      <th>SibSp</th>\n",
              "      <th>Parch</th>\n",
              "      <th>Fare</th>\n",
              "    </tr>\n",
              "  </thead>\n",
              "  <tbody>\n",
              "    <tr>\n",
              "      <th>count</th>\n",
              "      <td>874.000000</td>\n",
              "      <td>874.000000</td>\n",
              "      <td>874.000000</td>\n",
              "      <td>874.000000</td>\n",
              "      <td>874.000000</td>\n",
              "      <td>874.000000</td>\n",
              "    </tr>\n",
              "    <tr>\n",
              "      <th>mean</th>\n",
              "      <td>446.234554</td>\n",
              "      <td>0.379863</td>\n",
              "      <td>2.320366</td>\n",
              "      <td>0.512586</td>\n",
              "      <td>0.336384</td>\n",
              "      <td>28.845036</td>\n",
              "    </tr>\n",
              "    <tr>\n",
              "      <th>std</th>\n",
              "      <td>256.375858</td>\n",
              "      <td>0.485630</td>\n",
              "      <td>0.829232</td>\n",
              "      <td>1.100016</td>\n",
              "      <td>0.686228</td>\n",
              "      <td>36.647915</td>\n",
              "    </tr>\n",
              "    <tr>\n",
              "      <th>min</th>\n",
              "      <td>1.000000</td>\n",
              "      <td>0.000000</td>\n",
              "      <td>1.000000</td>\n",
              "      <td>0.000000</td>\n",
              "      <td>0.000000</td>\n",
              "      <td>0.000000</td>\n",
              "    </tr>\n",
              "    <tr>\n",
              "      <th>25%</th>\n",
              "      <td>224.250000</td>\n",
              "      <td>0.000000</td>\n",
              "      <td>2.000000</td>\n",
              "      <td>0.000000</td>\n",
              "      <td>0.000000</td>\n",
              "      <td>7.895800</td>\n",
              "    </tr>\n",
              "    <tr>\n",
              "      <th>50%</th>\n",
              "      <td>446.500000</td>\n",
              "      <td>0.000000</td>\n",
              "      <td>3.000000</td>\n",
              "      <td>0.000000</td>\n",
              "      <td>0.000000</td>\n",
              "      <td>14.054150</td>\n",
              "    </tr>\n",
              "    <tr>\n",
              "      <th>75%</th>\n",
              "      <td>666.750000</td>\n",
              "      <td>1.000000</td>\n",
              "      <td>3.000000</td>\n",
              "      <td>1.000000</td>\n",
              "      <td>0.000000</td>\n",
              "      <td>30.000000</td>\n",
              "    </tr>\n",
              "    <tr>\n",
              "      <th>max</th>\n",
              "      <td>891.000000</td>\n",
              "      <td>1.000000</td>\n",
              "      <td>3.000000</td>\n",
              "      <td>8.000000</td>\n",
              "      <td>4.000000</td>\n",
              "      <td>247.520800</td>\n",
              "    </tr>\n",
              "  </tbody>\n",
              "</table>\n",
              "</div>"
            ],
            "text/plain": [
              "       PassengerId    Survived      Pclass       SibSp       Parch        Fare\n",
              "count   874.000000  874.000000  874.000000  874.000000  874.000000  874.000000\n",
              "mean    446.234554    0.379863    2.320366    0.512586    0.336384   28.845036\n",
              "std     256.375858    0.485630    0.829232    1.100016    0.686228   36.647915\n",
              "min       1.000000    0.000000    1.000000    0.000000    0.000000    0.000000\n",
              "25%     224.250000    0.000000    2.000000    0.000000    0.000000    7.895800\n",
              "50%     446.500000    0.000000    3.000000    0.000000    0.000000   14.054150\n",
              "75%     666.750000    1.000000    3.000000    1.000000    0.000000   30.000000\n",
              "max     891.000000    1.000000    3.000000    8.000000    4.000000  247.520800"
            ]
          },
          "metadata": {
            "tags": []
          },
          "execution_count": 66
        }
      ]
    },
    {
      "cell_type": "markdown",
      "metadata": {
        "id": "I2GHl2kqUAd2",
        "colab_type": "text"
      },
      "source": [
        "***Making the final plots***"
      ]
    },
    {
      "cell_type": "code",
      "metadata": {
        "id": "ZUqhM3fD1Juw",
        "colab_type": "code",
        "colab": {
          "base_uri": "https://localhost:8080/",
          "height": 229
        },
        "outputId": "e771028f-f072-45d2-db7e-cd5c9b8142f3"
      },
      "source": [
        "f,  (ax1,ax2,ax4,ax6) = plt.subplots(1,4, sharey= True, figsize=(15,3))\n",
        "ax1.scatter(data_cleaned['Parch'],data_cleaned['Survived'])\n",
        "ax1.set_title('Survived and Parch')\n",
        "ax2.scatter(data_cleaned['Pclass'],data_cleaned['Survived'])\n",
        "ax2.set_title('Survived and Pclass')\n",
        "ax4.scatter(data_cleaned['SibSp'],data_cleaned['Survived'])\n",
        "ax4.set_title('Survived' and 'SibSp')\n",
        "#ax5.scatter(data_cleaned['PassengerID'],data_cleaned['Survived'])\n",
        "#ax5.set_title['Survived' and 'Parch']\n",
        "ax6.scatter(data_cleaned['Fare'],data_cleaned['Survived'])\n",
        "ax6.set_title('Survived' and 'Fare')\n",
        "plt.show()\n"
      ],
      "execution_count": 67,
      "outputs": [
        {
          "output_type": "display_data",
          "data": {
            "image/png": "[encoded data removed]",
            "text/plain": [
              "<Figure size 1080x216 with 4 Axes>"
            ]
          },
          "metadata": {
            "tags": []
          }
        }
      ]
    },
    {
      "cell_type": "code",
      "metadata": {
        "id": "U2GMzRitEsH8",
        "colab_type": "code",
        "colab": {
          "base_uri": "https://localhost:8080/",
          "height": 390
        },
        "outputId": "3f802194-6c77-484d-88b0-4b5b5e50942a"
      },
      "source": [
        "data_cleaned.describe(include='all')"
      ],
      "execution_count": 68,
      "outputs": [
        {
          "output_type": "execute_result",
          "data": {
            "text/html": [
              "<div>\n",
              "<style scoped>\n",
              "    .dataframe tbody tr th:only-of-type {\n",
              "        vertical-align: middle;\n",
              "    }\n",
              "\n",
              "    .dataframe tbody tr th {\n",
              "        vertical-align: top;\n",
              "    }\n",
              "\n",
              "    .dataframe thead th {\n",
              "        text-align: right;\n",
              "    }\n",
              "</style>\n",
              "<table border=\"1\" class=\"dataframe\">\n",
              "  <thead>\n",
              "    <tr style=\"text-align: right;\">\n",
              "      <th></th>\n",
              "      <th>PassengerId</th>\n",
              "      <th>Survived</th>\n",
              "      <th>Pclass</th>\n",
              "      <th>Sex</th>\n",
              "      <th>SibSp</th>\n",
              "      <th>Parch</th>\n",
              "      <th>Fare</th>\n",
              "      <th>Embarked</th>\n",
              "    </tr>\n",
              "  </thead>\n",
              "  <tbody>\n",
              "    <tr>\n",
              "      <th>count</th>\n",
              "      <td>874.000000</td>\n",
              "      <td>874.000000</td>\n",
              "      <td>874.000000</td>\n",
              "      <td>874</td>\n",
              "      <td>874.000000</td>\n",
              "      <td>874.000000</td>\n",
              "      <td>874.000000</td>\n",
              "      <td>874</td>\n",
              "    </tr>\n",
              "    <tr>\n",
              "      <th>unique</th>\n",
              "      <td>NaN</td>\n",
              "      <td>NaN</td>\n",
              "      <td>NaN</td>\n",
              "      <td>2</td>\n",
              "      <td>NaN</td>\n",
              "      <td>NaN</td>\n",
              "      <td>NaN</td>\n",
              "      <td>3</td>\n",
              "    </tr>\n",
              "    <tr>\n",
              "      <th>top</th>\n",
              "      <td>NaN</td>\n",
              "      <td>NaN</td>\n",
              "      <td>NaN</td>\n",
              "      <td>male</td>\n",
              "      <td>NaN</td>\n",
              "      <td>NaN</td>\n",
              "      <td>NaN</td>\n",
              "      <td>S</td>\n",
              "    </tr>\n",
              "    <tr>\n",
              "      <th>freq</th>\n",
              "      <td>NaN</td>\n",
              "      <td>NaN</td>\n",
              "      <td>NaN</td>\n",
              "      <td>572</td>\n",
              "      <td>NaN</td>\n",
              "      <td>NaN</td>\n",
              "      <td>NaN</td>\n",
              "      <td>635</td>\n",
              "    </tr>\n",
              "    <tr>\n",
              "      <th>mean</th>\n",
              "      <td>446.234554</td>\n",
              "      <td>0.379863</td>\n",
              "      <td>2.320366</td>\n",
              "      <td>NaN</td>\n",
              "      <td>0.512586</td>\n",
              "      <td>0.336384</td>\n",
              "      <td>28.845036</td>\n",
              "      <td>NaN</td>\n",
              "    </tr>\n",
              "    <tr>\n",
              "      <th>std</th>\n",
              "      <td>256.375858</td>\n",
              "      <td>0.485630</td>\n",
              "      <td>0.829232</td>\n",
              "      <td>NaN</td>\n",
              "      <td>1.100016</td>\n",
              "      <td>0.686228</td>\n",
              "      <td>36.647915</td>\n",
              "      <td>NaN</td>\n",
              "    </tr>\n",
              "    <tr>\n",
              "      <th>min</th>\n",
              "      <td>1.000000</td>\n",
              "      <td>0.000000</td>\n",
              "      <td>1.000000</td>\n",
              "      <td>NaN</td>\n",
              "      <td>0.000000</td>\n",
              "      <td>0.000000</td>\n",
              "      <td>0.000000</td>\n",
              "      <td>NaN</td>\n",
              "    </tr>\n",
              "    <tr>\n",
              "      <th>25%</th>\n",
              "      <td>224.250000</td>\n",
              "      <td>0.000000</td>\n",
              "      <td>2.000000</td>\n",
              "      <td>NaN</td>\n",
              "      <td>0.000000</td>\n",
              "      <td>0.000000</td>\n",
              "      <td>7.895800</td>\n",
              "      <td>NaN</td>\n",
              "    </tr>\n",
              "    <tr>\n",
              "      <th>50%</th>\n",
              "      <td>446.500000</td>\n",
              "      <td>0.000000</td>\n",
              "      <td>3.000000</td>\n",
              "      <td>NaN</td>\n",
              "      <td>0.000000</td>\n",
              "      <td>0.000000</td>\n",
              "      <td>14.054150</td>\n",
              "      <td>NaN</td>\n",
              "    </tr>\n",
              "    <tr>\n",
              "      <th>75%</th>\n",
              "      <td>666.750000</td>\n",
              "      <td>1.000000</td>\n",
              "      <td>3.000000</td>\n",
              "      <td>NaN</td>\n",
              "      <td>1.000000</td>\n",
              "      <td>0.000000</td>\n",
              "      <td>30.000000</td>\n",
              "      <td>NaN</td>\n",
              "    </tr>\n",
              "    <tr>\n",
              "      <th>max</th>\n",
              "      <td>891.000000</td>\n",
              "      <td>1.000000</td>\n",
              "      <td>3.000000</td>\n",
              "      <td>NaN</td>\n",
              "      <td>8.000000</td>\n",
              "      <td>4.000000</td>\n",
              "      <td>247.520800</td>\n",
              "      <td>NaN</td>\n",
              "    </tr>\n",
              "  </tbody>\n",
              "</table>\n",
              "</div>"
            ],
            "text/plain": [
              "        PassengerId    Survived      Pclass  ...       Parch        Fare  Embarked\n",
              "count    874.000000  874.000000  874.000000  ...  874.000000  874.000000       874\n",
              "unique          NaN         NaN         NaN  ...         NaN         NaN         3\n",
              "top             NaN         NaN         NaN  ...         NaN         NaN         S\n",
              "freq            NaN         NaN         NaN  ...         NaN         NaN       635\n",
              "mean     446.234554    0.379863    2.320366  ...    0.336384   28.845036       NaN\n",
              "std      256.375858    0.485630    0.829232  ...    0.686228   36.647915       NaN\n",
              "min        1.000000    0.000000    1.000000  ...    0.000000    0.000000       NaN\n",
              "25%      224.250000    0.000000    2.000000  ...    0.000000    7.895800       NaN\n",
              "50%      446.500000    0.000000    3.000000  ...    0.000000   14.054150       NaN\n",
              "75%      666.750000    1.000000    3.000000  ...    0.000000   30.000000       NaN\n",
              "max      891.000000    1.000000    3.000000  ...    4.000000  247.520800       NaN\n",
              "\n",
              "[11 rows x 8 columns]"
            ]
          },
          "metadata": {
            "tags": []
          },
          "execution_count": 68
        }
      ]
    },
    {
      "cell_type": "markdown",
      "metadata": {
        "id": "IKKuQjUUUJk9",
        "colab_type": "text"
      },
      "source": [
        "***Time for making the categorical variables the dummies:***"
      ]
    },
    {
      "cell_type": "code",
      "metadata": {
        "id": "gPxl6VcMGOMp",
        "colab_type": "code",
        "colab": {
          "base_uri": "https://localhost:8080/",
          "height": 204
        },
        "outputId": "3bd407c7-fc84-40eb-80b2-6e4a48d19917"
      },
      "source": [
        "data_with_dummies = pd.get_dummies(data_cleaned)\n",
        "data_with_dummies.head()"
      ],
      "execution_count": 69,
      "outputs": [
        {
          "output_type": "execute_result",
          "data": {
            "text/html": [
              "<div>\n",
              "<style scoped>\n",
              "    .dataframe tbody tr th:only-of-type {\n",
              "        vertical-align: middle;\n",
              "    }\n",
              "\n",
              "    .dataframe tbody tr th {\n",
              "        vertical-align: top;\n",
              "    }\n",
              "\n",
              "    .dataframe thead th {\n",
              "        text-align: right;\n",
              "    }\n",
              "</style>\n",
              "<table border=\"1\" class=\"dataframe\">\n",
              "  <thead>\n",
              "    <tr style=\"text-align: right;\">\n",
              "      <th></th>\n",
              "      <th>PassengerId</th>\n",
              "      <th>Survived</th>\n",
              "      <th>Pclass</th>\n",
              "      <th>SibSp</th>\n",
              "      <th>Parch</th>\n",
              "      <th>Fare</th>\n",
              "      <th>Sex_female</th>\n",
              "      <th>Sex_male</th>\n",
              "      <th>Embarked_C</th>\n",
              "      <th>Embarked_Q</th>\n",
              "      <th>Embarked_S</th>\n",
              "    </tr>\n",
              "  </thead>\n",
              "  <tbody>\n",
              "    <tr>\n",
              "      <th>0</th>\n",
              "      <td>1</td>\n",
              "      <td>0</td>\n",
              "      <td>3</td>\n",
              "      <td>1</td>\n",
              "      <td>0</td>\n",
              "      <td>7.2500</td>\n",
              "      <td>0</td>\n",
              "      <td>1</td>\n",
              "      <td>0</td>\n",
              "      <td>0</td>\n",
              "      <td>1</td>\n",
              "    </tr>\n",
              "    <tr>\n",
              "      <th>1</th>\n",
              "      <td>2</td>\n",
              "      <td>1</td>\n",
              "      <td>1</td>\n",
              "      <td>1</td>\n",
              "      <td>0</td>\n",
              "      <td>71.2833</td>\n",
              "      <td>1</td>\n",
              "      <td>0</td>\n",
              "      <td>1</td>\n",
              "      <td>0</td>\n",
              "      <td>0</td>\n",
              "    </tr>\n",
              "    <tr>\n",
              "      <th>2</th>\n",
              "      <td>3</td>\n",
              "      <td>1</td>\n",
              "      <td>3</td>\n",
              "      <td>0</td>\n",
              "      <td>0</td>\n",
              "      <td>7.9250</td>\n",
              "      <td>1</td>\n",
              "      <td>0</td>\n",
              "      <td>0</td>\n",
              "      <td>0</td>\n",
              "      <td>1</td>\n",
              "    </tr>\n",
              "    <tr>\n",
              "      <th>3</th>\n",
              "      <td>4</td>\n",
              "      <td>1</td>\n",
              "      <td>1</td>\n",
              "      <td>1</td>\n",
              "      <td>0</td>\n",
              "      <td>53.1000</td>\n",
              "      <td>1</td>\n",
              "      <td>0</td>\n",
              "      <td>0</td>\n",
              "      <td>0</td>\n",
              "      <td>1</td>\n",
              "    </tr>\n",
              "    <tr>\n",
              "      <th>4</th>\n",
              "      <td>5</td>\n",
              "      <td>0</td>\n",
              "      <td>3</td>\n",
              "      <td>0</td>\n",
              "      <td>0</td>\n",
              "      <td>8.0500</td>\n",
              "      <td>0</td>\n",
              "      <td>1</td>\n",
              "      <td>0</td>\n",
              "      <td>0</td>\n",
              "      <td>1</td>\n",
              "    </tr>\n",
              "  </tbody>\n",
              "</table>\n",
              "</div>"
            ],
            "text/plain": [
              "   PassengerId  Survived  Pclass  ...  Embarked_C  Embarked_Q  Embarked_S\n",
              "0            1         0       3  ...           0           0           1\n",
              "1            2         1       1  ...           1           0           0\n",
              "2            3         1       3  ...           0           0           1\n",
              "3            4         1       1  ...           0           0           1\n",
              "4            5         0       3  ...           0           0           1\n",
              "\n",
              "[5 rows x 11 columns]"
            ]
          },
          "metadata": {
            "tags": []
          },
          "execution_count": 69
        }
      ]
    },
    {
      "cell_type": "code",
      "metadata": {
        "id": "lyatr2Q0GyWE",
        "colab_type": "code",
        "colab": {
          "base_uri": "https://localhost:8080/",
          "height": 68
        },
        "outputId": "79b6889a-a4e8-4b97-b4eb-ab6eec11f830"
      },
      "source": [
        "data_with_dummies.columns.values"
      ],
      "execution_count": 70,
      "outputs": [
        {
          "output_type": "execute_result",
          "data": {
            "text/plain": [
              "array(['PassengerId', 'Survived', 'Pclass', 'SibSp', 'Parch', 'Fare',\n",
              "       'Sex_female', 'Sex_male', 'Embarked_C', 'Embarked_Q', 'Embarked_S'],\n",
              "      dtype=object)"
            ]
          },
          "metadata": {
            "tags": []
          },
          "execution_count": 70
        }
      ]
    },
    {
      "cell_type": "markdown",
      "metadata": {
        "id": "cT0oZA99UWS7",
        "colab_type": "text"
      },
      "source": [
        "***Final plotting with all the variables:***"
      ]
    },
    {
      "cell_type": "code",
      "metadata": {
        "id": "sbXIVFO4R_kd",
        "colab_type": "code",
        "colab": {}
      },
      "source": [
        "y = data_with_dummies['Survived']\n",
        "x1 = data_with_dummies[['PassengerId', 'Pclass', 'SibSp', 'Parch',\n",
        "       'Fare', 'Sex_female', 'Sex_male', 'Embarked_C', 'Embarked_Q',\n",
        "       'Embarked_S']]\n"
      ],
      "execution_count": 71,
      "outputs": []
    },
    {
      "cell_type": "markdown",
      "metadata": {
        "id": "E7gt6XfrVVoh",
        "colab_type": "text"
      },
      "source": [
        "***Fitting into the regression model:***"
      ]
    },
    {
      "cell_type": "code",
      "metadata": {
        "id": "iCukz1TJS9zW",
        "colab_type": "code",
        "colab": {
          "base_uri": "https://localhost:8080/",
          "height": 644
        },
        "outputId": "e92ee37f-a683-4dca-8f58-d7c4fc655a23"
      },
      "source": [
        "x = sm.add_constant(x1)\n",
        "reg_log = sm.Logit(y,x)\n",
        "results_log = reg_log.fit()\n",
        "results_log.summary()"
      ],
      "execution_count": 72,
      "outputs": [
        {
          "output_type": "stream",
          "text": [
            "Optimization terminated successfully.\n",
            "         Current function value: 0.456486\n",
            "         Iterations 8\n"
          ],
          "name": "stdout"
        },
        {
          "output_type": "stream",
          "text": [
            "/usr/local/lib/python3.6/dist-packages/statsmodels/base/model.py:1286: RuntimeWarning: invalid value encountered in sqrt\n",
            "  bse_ = np.sqrt(np.diag(self.cov_params()))\n",
            "/usr/local/lib/python3.6/dist-packages/scipy/stats/_distn_infrastructure.py:903: RuntimeWarning: invalid value encountered in greater\n",
            "  return (a < x) & (x < b)\n",
            "/usr/local/lib/python3.6/dist-packages/scipy/stats/_distn_infrastructure.py:903: RuntimeWarning: invalid value encountered in less\n",
            "  return (a < x) & (x < b)\n",
            "/usr/local/lib/python3.6/dist-packages/scipy/stats/_distn_infrastructure.py:1912: RuntimeWarning: invalid value encountered in less_equal\n",
            "  cond2 = cond0 & (x <= _a)\n"
          ],
          "name": "stderr"
        },
        {
          "output_type": "execute_result",
          "data": {
            "text/html": [
              "<table class=\"simpletable\">\n",
              "<caption>Logit Regression Results</caption>\n",
              "<tr>\n",
              "  <th>Dep. Variable:</th>       <td>Survived</td>     <th>  No. Observations:  </th>  <td>   874</td>  \n",
              "</tr>\n",
              "<tr>\n",
              "  <th>Model:</th>                 <td>Logit</td>      <th>  Df Residuals:      </th>  <td>   865</td>  \n",
              "</tr>\n",
              "<tr>\n",
              "  <th>Method:</th>                 <td>MLE</td>       <th>  Df Model:          </th>  <td>     8</td>  \n",
              "</tr>\n",
              "<tr>\n",
              "  <th>Date:</th>            <td>Mon, 14 Sep 2020</td> <th>  Pseudo R-squ.:     </th>  <td>0.3125</td>  \n",
              "</tr>\n",
              "<tr>\n",
              "  <th>Time:</th>                <td>07:06:00</td>     <th>  Log-Likelihood:    </th> <td> -398.97</td> \n",
              "</tr>\n",
              "<tr>\n",
              "  <th>converged:</th>             <td>True</td>       <th>  LL-Null:           </th> <td> -580.33</td> \n",
              "</tr>\n",
              "<tr>\n",
              "  <th>Covariance Type:</th>     <td>nonrobust</td>    <th>  LLR p-value:       </th> <td>1.734e-73</td>\n",
              "</tr>\n",
              "</table>\n",
              "<table class=\"simpletable\">\n",
              "<tr>\n",
              "       <td></td>          <th>coef</th>     <th>std err</th>      <th>z</th>      <th>P>|z|</th>  <th>[0.025</th>    <th>0.975]</th>  \n",
              "</tr>\n",
              "<tr>\n",
              "  <th>const</th>       <td>    1.0904</td> <td>      nan</td> <td>      nan</td> <td>   nan</td> <td>      nan</td> <td>      nan</td>\n",
              "</tr>\n",
              "<tr>\n",
              "  <th>PassengerId</th> <td>    0.0001</td> <td>    0.000</td> <td>    0.365</td> <td> 0.715</td> <td>   -0.001</td> <td>    0.001</td>\n",
              "</tr>\n",
              "<tr>\n",
              "  <th>Pclass</th>      <td>   -0.8871</td> <td>    0.142</td> <td>   -6.239</td> <td> 0.000</td> <td>   -1.166</td> <td>   -0.608</td>\n",
              "</tr>\n",
              "<tr>\n",
              "  <th>SibSp</th>       <td>   -0.2736</td> <td>    0.106</td> <td>   -2.576</td> <td> 0.010</td> <td>   -0.482</td> <td>   -0.065</td>\n",
              "</tr>\n",
              "<tr>\n",
              "  <th>Parch</th>       <td>    0.1439</td> <td>    0.147</td> <td>    0.978</td> <td> 0.328</td> <td>   -0.145</td> <td>    0.432</td>\n",
              "</tr>\n",
              "<tr>\n",
              "  <th>Fare</th>        <td>    0.0002</td> <td>    0.003</td> <td>    0.055</td> <td> 0.956</td> <td>   -0.007</td> <td>    0.007</td>\n",
              "</tr>\n",
              "<tr>\n",
              "  <th>Sex_female</th>  <td>    1.8911</td> <td> 1.63e+06</td> <td> 1.16e-06</td> <td> 1.000</td> <td> -3.2e+06</td> <td>  3.2e+06</td>\n",
              "</tr>\n",
              "<tr>\n",
              "  <th>Sex_male</th>    <td>   -0.8007</td> <td> 1.63e+06</td> <td> -4.9e-07</td> <td> 1.000</td> <td> -3.2e+06</td> <td>  3.2e+06</td>\n",
              "</tr>\n",
              "<tr>\n",
              "  <th>Embarked_C</th>  <td>    0.5346</td> <td> 5.36e+06</td> <td> 9.98e-08</td> <td> 1.000</td> <td>-1.05e+07</td> <td> 1.05e+07</td>\n",
              "</tr>\n",
              "<tr>\n",
              "  <th>Embarked_Q</th>  <td>    0.4630</td> <td> 5.36e+06</td> <td> 8.65e-08</td> <td> 1.000</td> <td>-1.05e+07</td> <td> 1.05e+07</td>\n",
              "</tr>\n",
              "<tr>\n",
              "  <th>Embarked_S</th>  <td>    0.0928</td> <td> 5.36e+06</td> <td> 1.73e-08</td> <td> 1.000</td> <td>-1.05e+07</td> <td> 1.05e+07</td>\n",
              "</tr>\n",
              "</table>"
            ],
            "text/plain": [
              "<class 'statsmodels.iolib.summary.Summary'>\n",
              "\"\"\"\n",
              "                           Logit Regression Results                           \n",
              "==============================================================================\n",
              "Dep. Variable:               Survived   No. Observations:                  874\n",
              "Model:                          Logit   Df Residuals:                      865\n",
              "Method:                           MLE   Df Model:                            8\n",
              "Date:                Mon, 14 Sep 2020   Pseudo R-squ.:                  0.3125\n",
              "Time:                        07:06:00   Log-Likelihood:                -398.97\n",
              "converged:                       True   LL-Null:                       -580.33\n",
              "Covariance Type:            nonrobust   LLR p-value:                 1.734e-73\n",
              "===============================================================================\n",
              "                  coef    std err          z      P>|z|      [0.025      0.975]\n",
              "-------------------------------------------------------------------------------\n",
              "const           1.0904        nan        nan        nan         nan         nan\n",
              "PassengerId     0.0001      0.000      0.365      0.715      -0.001       0.001\n",
              "Pclass         -0.8871      0.142     -6.239      0.000      -1.166      -0.608\n",
              "SibSp          -0.2736      0.106     -2.576      0.010      -0.482      -0.065\n",
              "Parch           0.1439      0.147      0.978      0.328      -0.145       0.432\n",
              "Fare            0.0002      0.003      0.055      0.956      -0.007       0.007\n",
              "Sex_female      1.8911   1.63e+06   1.16e-06      1.000    -3.2e+06     3.2e+06\n",
              "Sex_male       -0.8007   1.63e+06   -4.9e-07      1.000    -3.2e+06     3.2e+06\n",
              "Embarked_C      0.5346   5.36e+06   9.98e-08      1.000   -1.05e+07    1.05e+07\n",
              "Embarked_Q      0.4630   5.36e+06   8.65e-08      1.000   -1.05e+07    1.05e+07\n",
              "Embarked_S      0.0928   5.36e+06   1.73e-08      1.000   -1.05e+07    1.05e+07\n",
              "===============================================================================\n",
              "\"\"\""
            ]
          },
          "metadata": {
            "tags": []
          },
          "execution_count": 72
        }
      ]
    },
    {
      "cell_type": "code",
      "metadata": {
        "id": "T43EHmX7VNsM",
        "colab_type": "code",
        "colab": {
          "base_uri": "https://localhost:8080/",
          "height": 1000
        },
        "outputId": "4d3d35da-0fd8-4f8e-eff8-8dd162ff47e8"
      },
      "source": [
        "results_log.predict()"
      ],
      "execution_count": 73,
      "outputs": [
        {
          "output_type": "execute_result",
          "data": {
            "text/plain": [
              "array([0.07237558, 0.91444712, 0.6022904 , 0.87260729, 0.09308649,\n",
              "       0.12941112, 0.37898123, 0.04971016, 0.66909681, 0.81387037,\n",
              "       0.57149928, 0.89969043, 0.09317236, 0.60265246, 0.78671723,\n",
              "       0.05461238, 0.1999069 , 0.53627991, 0.70241758, 0.2003613 ,\n",
              "       0.19998822, 0.68734101, 0.37876183, 0.43620369, 0.13798984,\n",
              "       0.68749877, 0.0933526 , 0.48660401, 0.91584751, 0.68760273,\n",
              "       0.20015668, 0.42155908, 0.3178341 , 0.13814118, 0.09344116,\n",
              "       0.46862543, 0.64303412, 0.5365745 , 0.73806184, 0.13824701,\n",
              "       0.85440425, 0.68793548, 0.09352733, 0.1021818 , 0.68801209,\n",
              "       0.08519879, 0.53725016, 0.03859938, 0.09358799, 0.91503291,\n",
              "       0.73853912, 0.52492612, 0.37971927, 0.78741629, 0.13845925,\n",
              "       0.79035588, 0.03414591, 0.13850474, 0.31987152, 0.05741652,\n",
              "       0.48768359, 0.12397263, 0.78762895, 0.09376639, 0.40535544,\n",
              "       0.05650286, 0.20091057, 0.34320783, 0.20287034, 0.10925948,\n",
              "       0.09462186, 0.09384465, 0.09385941, 0.0938727 , 0.25192289,\n",
              "       0.60483776, 0.09392041, 0.09393927, 0.68896763, 0.38107481,\n",
              "       0.78801136, 0.4028325 , 0.10879333, 0.09398086, 0.0940025 ,\n",
              "       0.09401333, 0.094021  , 0.31978398, 0.09546137, 0.09404375,\n",
              "       0.09406747, 0.48902724, 0.52635378, 0.81168252, 0.16143659,\n",
              "       0.6052687 , 0.09412999, 0.41750851, 0.09416389, 0.05673301,\n",
              "       0.09417334, 0.60543978, 0.09419308, 0.09420587, 0.62907284,\n",
              "       0.38210314, 0.64527082, 0.09425175, 0.53889717, 0.70521947,\n",
              "       0.09428229, 0.13099359, 0.16161842, 0.53568743, 0.40798439,\n",
              "       0.12903584, 0.09434944, 0.23110287, 0.78891688, 0.41818865,\n",
              "       0.10984494, 0.13113834, 0.09439994, 0.67826902, 0.09441898,\n",
              "       0.13958483, 0.09444193, 0.53971669, 0.74049768, 0.20229587,\n",
              "       0.28298523, 0.92395528, 0.3206967 , 0.0945531 , 0.49249734,\n",
              "       0.76195857, 0.6065064 , 0.54009579, 0.13136314, 0.20245525,\n",
              "       0.18304658, 0.09461717, 0.54463121, 0.25349587, 0.20260368,\n",
              "       0.20260971, 0.87496308, 0.09468664, 0.12253442, 0.09469648,\n",
              "       0.52809791, 0.69097724, 0.09474112, 0.09476195, 0.01557914,\n",
              "       0.10800223, 0.78980632, 0.09479118, 0.09481648, 0.03914065,\n",
              "       0.12282114, 0.91394037, 0.67734909, 0.38268001, 0.09566129,\n",
              "       0.38307839, 0.05563843, 0.57627678, 0.09491364, 0.49131761,\n",
              "       0.08435888, 0.05077465, 0.93444644, 0.20319978, 0.09485048,\n",
              "       0.18974959, 0.28417314, 0.0449553 , 0.14626923, 0.67448261,\n",
              "       0.38426671, 0.63097281, 0.38327855, 0.11802068, 0.095088  ,\n",
              "       0.79033141, 0.20346742, 0.54129858, 0.18365577, 0.9345672 ,\n",
              "       0.93593471, 0.13215534, 0.10831551, 0.69211654, 0.79052089,\n",
              "       0.09523448, 0.01566122, 0.09520746, 0.1406875 , 0.09525467,\n",
              "       0.64225277, 0.07426479, 0.1410135 , 0.6923873 , 0.49244375,\n",
              "       0.09530411, 0.79102341, 0.09532929, 0.20392094, 0.1040207 ,\n",
              "       0.91715615, 0.60878682, 0.16350297, 0.9353112 , 0.20396802,\n",
              "       0.09543006, 0.20408605, 0.09545201, 0.09546047, 0.32463762,\n",
              "       0.09550616, 0.20411251, 0.09549383, 0.2042306 , 0.44282628,\n",
              "       0.87640333, 0.09554632, 0.20432859, 0.41149362, 0.20427773,\n",
              "       0.60934491, 0.16380761, 0.83522475, 0.20436038, 0.20443561,\n",
              "       0.64901458, 0.63259893, 0.20444305, 0.09566757, 0.14131864,\n",
              "       0.34675969, 0.60968777, 0.83509395, 0.35601338, 0.16403405,\n",
              "       0.09574661, 0.57869564, 0.38523314, 0.07467977, 0.67635786,\n",
              "       0.76459937, 0.93563591, 0.90346978, 0.81487585, 0.13309102,\n",
              "       0.04538835, 0.35759713, 0.38437604, 0.69390109, 0.2049189 ,\n",
              "       0.03963112, 0.07469398, 0.91639162, 0.90440865, 0.3859744 ,\n",
              "       0.0958591 , 0.81493973, 0.53034243, 0.69417097, 0.87690899,\n",
              "       0.61059359, 0.20484402, 0.05635729, 0.58001375, 0.13338457,\n",
              "       0.09609819, 0.09613626, 0.09612348, 0.38617212, 0.14198524,\n",
              "       0.09618044, 0.09616513, 0.2054727 , 0.69457554, 0.90370917,\n",
              "       0.91757033, 0.28696741, 0.6111566 , 0.09624248, 0.49502088,\n",
              "       0.14212261, 0.90618358, 0.38679571, 0.945721  , 0.69487204,\n",
              "       0.08219271, 0.09620111, 0.84700497, 0.09635562, 0.39582429,\n",
              "       0.93637526, 0.91797799, 0.23512368, 0.93578787, 0.93609275,\n",
              "       0.77121149, 0.09645272, 0.18597975, 0.61177615, 0.7449419 ,\n",
              "       0.20610599, 0.92734939, 0.92860185, 0.09651964, 0.09654137,\n",
              "       0.84731763, 0.77155803, 0.01590404, 0.93679654, 0.09656946,\n",
              "       0.79320208, 0.58154266, 0.94405393, 0.57017823, 0.3877012 ,\n",
              "       0.42815581, 0.05841541, 0.87884147, 0.09669667, 0.32679241,\n",
              "       0.93687411, 0.09673253, 0.38825681, 0.18647336, 0.20659538,\n",
              "       0.20661621, 0.20663705, 0.79357708, 0.7935979 , 0.546572  ,\n",
              "       0.08619252, 0.09686488, 0.0968853 , 0.38859665, 0.12781963,\n",
              "       0.07558523, 0.14302363, 0.09694547, 0.91582078, 0.7938268 ,\n",
              "       0.69643787, 0.69646474, 0.12723076, 0.23646419, 0.74032421,\n",
              "       0.09699395, 0.10594961, 0.09701952, 0.91806362, 0.71157916,\n",
              "       0.69670134, 0.936384  , 0.43076622, 0.07559577, 0.09711075,\n",
              "       0.5025985 , 0.4471726 , 0.91824788, 0.61358877, 0.57760743,\n",
              "       0.14332332, 0.09718422, 0.9382236 , 0.76748614, 0.09722017,\n",
              "       0.87785778, 0.097242  , 0.20937941, 0.03554339, 0.79445013,\n",
              "       0.13497875, 0.85739469, 0.39698215, 0.09731846, 0.05872386,\n",
              "       0.91885889, 0.680096  , 0.09736313, 0.61421833, 0.20814824,\n",
              "       0.20768665, 0.79468827, 0.09742114, 0.09743439, 0.54801002,\n",
              "       0.07600455, 0.61449542, 0.16663965, 0.0974853 , 0.18755967,\n",
              "       0.09750808, 0.44847783, 0.09753246, 0.13530115, 0.91319659,\n",
              "       0.20767376, 0.09757771, 0.61479913, 0.77375047, 0.83800934,\n",
              "       0.20818312, 0.68109283, 0.14407046, 0.13546929, 0.09766644,\n",
              "       0.5841967 , 0.08702109, 0.09768963, 0.74758908, 0.79567884,\n",
              "       0.13557388, 0.09774779, 0.39060452, 0.54921646, 0.74773295,\n",
              "       0.09777721, 0.3290917 , 0.90716303, 0.55372458, 0.77622766,\n",
              "       0.20854541, 0.77407746, 0.09790658, 0.0762458 , 0.79560993,\n",
              "       0.09791709, 0.46388932, 0.81825163, 0.39111893, 0.62535291,\n",
              "       0.3913573 , 0.21166453, 0.07648903, 0.50001049, 0.43491785,\n",
              "       0.09802836, 0.14461986, 0.39139136, 0.87885986, 0.79584299,\n",
              "       0.13603627, 0.39151246, 0.09810705, 0.3921113 , 0.20912746,\n",
              "       0.0981408 , 0.09813531, 0.20878431, 0.39172443, 0.13617021,\n",
              "       0.625978  , 0.09819492, 0.09822982, 0.79894095, 0.85873613,\n",
              "       0.61665327, 0.39311383, 0.16789653, 0.07654995, 0.09828953,\n",
              "       0.65029217, 0.0359552 , 0.20909941, 0.09834346, 0.61691246,\n",
              "       0.43597818, 0.45086813, 0.88001497, 0.5012147 , 0.0984111 ,\n",
              "       0.08761448, 0.0768399 , 0.09843151, 0.39265981, 0.50234119,\n",
              "       0.09847878, 0.14540396, 0.9193402 , 0.09863105, 0.90833293,\n",
              "       0.09853094, 0.09855679, 0.70026124, 0.70028312, 0.617513  ,\n",
              "       0.90617307, 0.43746338, 0.83986973, 0.39293642, 0.09888039,\n",
              "       0.0994654 , 0.13679988, 0.09867076, 0.39307618, 0.91923591,\n",
              "       0.09869536, 0.39351596, 0.79703806, 0.13727168, 0.74978906,\n",
              "       0.09875863, 0.90645808, 0.09878126, 0.14566065, 0.945342  ,\n",
              "       0.14569238, 0.13702515, 0.79724358, 0.40238415, 0.09886098,\n",
              "       0.15117808, 0.77606333, 0.14580315, 0.13039175, 0.77113646,\n",
              "       0.61840187, 0.84037113, 0.39381594, 0.93805314, 0.09908515,\n",
              "       0.95233593, 0.92805174, 0.4209997 , 0.42103068, 0.16922237,\n",
              "       0.43856833, 0.39406422, 0.75045608, 0.29368302, 0.08828609,\n",
              "       0.19085011, 0.57833142, 0.21139262, 0.1374332 , 0.14615163,\n",
              "       0.61896195, 0.39439256, 0.91936368, 0.51278443, 0.8950715 ,\n",
              "       0.55330146, 0.137552  , 0.09923475, 0.21123184, 0.09926008,\n",
              "       0.61927391, 0.06012414, 0.09929157, 0.74359595, 0.14638979,\n",
              "       0.09932497, 0.21130677, 0.84845226, 0.39490138, 0.7021784 ,\n",
              "       0.09938514, 0.09950571, 0.79834493, 0.88055451, 0.65873649,\n",
              "       0.09943992, 0.77729668, 0.9304901 , 0.21205017, 0.50475743,\n",
              "       0.14667917, 0.92854125, 0.21178782, 0.47432323, 0.09954452,\n",
              "       0.09955591, 0.09955163, 0.920231  , 0.09957654, 0.75913645,\n",
              "       0.17013557, 0.08882352, 0.79936085, 0.09951066, 0.14686678,\n",
              "       0.4379859 , 0.72678586, 0.0996901 , 0.39653689, 0.09971553,\n",
              "       0.50478317, 0.07782316, 0.09974715, 0.39615075, 0.8631116 ,\n",
              "       0.90836065, 0.09978986, 0.64348767, 0.13835305, 0.0998411 ,\n",
              "       0.80296089, 0.0888904 , 0.55506195, 0.72768959, 0.21234649,\n",
              "       0.11621133, 0.3342195 , 0.13187835, 0.09994062, 0.10009236,\n",
              "       0.3967805 , 0.28100916, 0.90735815, 0.09999851, 0.13859526,\n",
              "       0.3968276 , 0.10001851, 0.50585936, 0.39556224, 0.49152361,\n",
              "       0.79954941, 0.10009055, 0.19227478, 0.07814133, 0.10013514,\n",
              "       0.93841246, 0.49177773, 0.1010013 , 0.63117057, 0.44034765,\n",
              "       0.10020458, 0.50657213, 0.10022161, 0.62179542, 0.10025043,\n",
              "       0.82219095, 0.10028252, 0.70430339, 0.70428738, 0.13687211,\n",
              "       0.10031923, 0.6770202 , 0.21325597, 0.58181599, 0.28040434,\n",
              "       0.14787285, 0.39760167, 0.10039273, 0.07825898, 0.13702232,\n",
              "       0.21342661, 0.10044342, 0.1004596 , 0.88170198, 0.77956293,\n",
              "       0.33561164, 0.2134753 , 0.213576  , 0.21318487, 0.10053532,\n",
              "       0.10055152, 0.6227337 , 0.70502966, 0.50959994, 0.10064061,\n",
              "       0.03686028, 0.19358013, 0.30139805, 0.04171343, 0.10071433,\n",
              "       0.10068518, 0.92119868, 0.33636123, 0.74824457, 0.10156817,\n",
              "       0.14838605, 0.39861979, 0.2140619 , 0.10078164, 0.7054629 ,\n",
              "       0.47933645, 0.10080934, 0.92326485, 0.39882118, 0.74854475,\n",
              "       0.13972209, 0.07862551, 0.21467387, 0.80100678, 0.39900402,\n",
              "       0.90937285, 0.13313857, 0.93870238, 0.39913784, 0.33677452,\n",
              "       0.10100221, 0.21445252, 0.10099382, 0.94065285, 0.8011392 ,\n",
              "       0.14012801, 0.10104214, 0.82374396, 0.0787712 , 0.21462385,\n",
              "       0.21464527, 0.33716172, 0.10112667, 0.64010434, 0.70625469,\n",
              "       0.17255361, 0.55819353, 0.91052798, 0.14927472, 0.21442394,\n",
              "       0.2148596 , 0.21488104, 0.10137025, 0.66179363, 0.10126376,\n",
              "       0.10127533, 0.40017862, 0.33873414, 0.0790988 , 0.10133369,\n",
              "       0.37143682, 0.09032844, 0.80182104, 0.33784373, 0.14042648,\n",
              "       0.78078798, 0.1153843 , 0.10145345, 0.1014374 , 0.80574095,\n",
              "       0.19426676, 0.10147043, 0.21532669, 0.10149799, 0.90889254,\n",
              "       0.10163244, 0.10151682, 0.14949774, 0.9106147 , 0.10156281,\n",
              "       0.88347475, 0.5105457 , 0.70730873, 0.11107395, 0.10163095,\n",
              "       0.10166219, 0.10164538, 0.80225049, 0.14967548, 0.8265012 ,\n",
              "       0.10169002, 0.1408412 , 0.62583145, 0.14087168, 0.92202502,\n",
              "       0.72223103, 0.88327611, 0.40146059, 0.10335728, 0.10178246,\n",
              "       0.10179753, 0.6258789 , 0.05989797, 0.1033658 , 0.51314635,\n",
              "       0.14105664, 0.21652229, 0.20199737, 0.5109826 , 0.10191334,\n",
              "       0.21619186, 0.90833231, 0.62625874, 0.15008042, 0.59619973,\n",
              "       0.21629956, 0.78200011, 0.40958211, 0.16949177, 0.10201378,\n",
              "       0.10203927, 0.40083108, 0.62651599, 0.21647196, 0.88356668,\n",
              "       0.10209946, 0.1023933 , 0.21647804, 0.4294485 , 0.1021489 ,\n",
              "       0.40110582, 0.62679023, 0.27516045, 0.10216778, 0.06284307,\n",
              "       0.89839716, 0.10224114, 0.40131955, 0.66017611, 0.04242017,\n",
              "       0.14157807, 0.10313281, 0.36589074, 0.1416428 , 0.66589915,\n",
              "       0.19590965, 0.15063245, 0.10236718, 0.1023866 , 0.93221883,\n",
              "       0.10241626, 0.1024173 , 0.10327396, 0.51239634, 0.10245018,\n",
              "       0.21710384, 0.93946199, 0.15079224, 0.10250977, 0.10250211,\n",
              "       0.01697642, 0.15089266, 0.24349302, 0.9227512 , 0.04874347,\n",
              "       0.1025762 , 0.69772738, 0.92034831, 0.75771468, 0.66095556,\n",
              "       0.90003433, 0.40359618, 0.80207545, 0.15107201, 0.06216732,\n",
              "       0.17458511, 0.90902835, 0.20345583, 0.21768156, 0.80419334,\n",
              "       0.82937608, 0.40499239, 0.10280533, 0.09147788, 0.10280081,\n",
              "       0.89828227, 0.40307466, 0.10285524, 0.82979084, 0.72464654,\n",
              "       0.10290518, 0.10288289, 0.10289462, 0.94786896, 0.8264873 ,\n",
              "       0.10292982, 0.62886467, 0.21801249, 0.10295027, 0.21815809,\n",
              "       0.90935421, 0.63290332, 0.51399806, 0.14260353])"
            ]
          },
          "metadata": {
            "tags": []
          },
          "execution_count": 73
        }
      ]
    },
    {
      "cell_type": "markdown",
      "metadata": {
        "id": "-wxaBv4VWZrJ",
        "colab_type": "text"
      },
      "source": [
        "***Checking Predictions:***"
      ]
    },
    {
      "cell_type": "code",
      "metadata": {
        "id": "QUOm4CEmVa5J",
        "colab_type": "code",
        "colab": {
          "base_uri": "https://localhost:8080/",
          "height": 714
        },
        "outputId": "648e071a-d876-40cc-93cf-e6d64c58220d"
      },
      "source": [
        "np.array(data['Survived'])"
      ],
      "execution_count": 74,
      "outputs": [
        {
          "output_type": "execute_result",
          "data": {
            "text/plain": [
              "array([0, 1, 1, 1, 0, 0, 0, 0, 1, 1, 1, 1, 0, 0, 0, 1, 0, 1, 0, 1, 0, 1,\n",
              "       1, 1, 0, 1, 0, 0, 1, 0, 0, 1, 1, 0, 0, 0, 1, 0, 0, 1, 0, 0, 0, 1,\n",
              "       1, 0, 0, 1, 0, 0, 0, 0, 1, 1, 0, 1, 1, 0, 1, 0, 0, 0, 0, 0, 1, 1,\n",
              "       0, 1, 0, 0, 0, 0, 0, 1, 0, 0, 0, 1, 1, 0, 1, 1, 0, 1, 1, 0, 0, 1,\n",
              "       0, 0, 0, 0, 0, 0, 0, 0, 1, 1, 0, 0, 0, 0, 0, 0, 0, 1, 1, 0, 1, 0,\n",
              "       0, 0, 0, 0, 0, 0, 0, 0, 0, 0, 0, 0, 1, 0, 1, 0, 1, 1, 0, 0, 0, 0,\n",
              "       1, 0, 0, 1, 0, 0, 0, 0, 1, 1, 0, 0, 0, 1, 0, 0, 0, 0, 1, 0, 0, 0,\n",
              "       0, 1, 0, 0, 0, 0, 1, 0, 0, 0, 1, 1, 0, 0, 0, 0, 0, 1, 0, 0, 0, 0,\n",
              "       0, 0, 0, 0, 0, 0, 1, 1, 0, 1, 1, 0, 0, 1, 0, 1, 1, 1, 1, 0, 0, 1,\n",
              "       0, 0, 0, 0, 0, 1, 0, 0, 1, 1, 1, 0, 1, 0, 0, 0, 1, 1, 0, 1, 0, 1,\n",
              "       0, 0, 0, 1, 0, 1, 0, 0, 0, 1, 0, 0, 1, 0, 0, 0, 1, 0, 0, 0, 1, 0,\n",
              "       0, 0, 0, 0, 1, 1, 0, 0, 0, 0, 0, 0, 1, 1, 1, 1, 1, 0, 1, 0, 0, 0,\n",
              "       0, 0, 1, 1, 1, 0, 1, 1, 0, 1, 1, 0, 0, 0, 1, 0, 0, 0, 1, 0, 0, 1,\n",
              "       0, 1, 1, 1, 1, 0, 0, 0, 0, 0, 0, 1, 1, 1, 1, 0, 1, 0, 1, 1, 1, 0,\n",
              "       1, 1, 1, 0, 0, 0, 1, 1, 0, 1, 1, 0, 0, 1, 1, 0, 1, 0, 1, 1, 1, 1,\n",
              "       0, 0, 0, 1, 0, 0, 1, 1, 0, 1, 1, 0, 0, 0, 1, 1, 1, 1, 0, 0, 0, 0,\n",
              "       0, 0, 0, 1, 0, 1, 1, 0, 0, 0, 0, 0, 0, 1, 1, 1, 1, 1, 0, 0, 0, 0,\n",
              "       1, 1, 0, 0, 0, 1, 1, 0, 1, 0, 0, 0, 1, 0, 1, 1, 1, 0, 1, 1, 0, 0,\n",
              "       0, 0, 1, 1, 0, 0, 0, 0, 0, 0, 1, 0, 0, 0, 0, 1, 0, 1, 0, 1, 1, 0,\n",
              "       0, 0, 0, 0, 0, 0, 0, 1, 1, 0, 1, 1, 1, 1, 0, 0, 1, 0, 1, 0, 0, 1,\n",
              "       0, 0, 1, 1, 1, 1, 1, 1, 1, 0, 0, 0, 1, 0, 1, 0, 1, 1, 0, 1, 0, 0,\n",
              "       0, 0, 0, 0, 0, 0, 1, 0, 0, 1, 1, 0, 0, 0, 0, 0, 1, 0, 0, 0, 1, 1,\n",
              "       0, 1, 0, 0, 1, 0, 0, 0, 0, 0, 0, 1, 0, 0, 0, 0, 0, 0, 0, 1, 0, 1,\n",
              "       1, 0, 1, 1, 0, 1, 1, 0, 0, 1, 0, 1, 0, 1, 0, 0, 1, 0, 0, 1, 0, 0,\n",
              "       0, 1, 0, 0, 1, 0, 1, 0, 1, 0, 1, 1, 0, 0, 1, 0, 0, 1, 1, 0, 1, 1,\n",
              "       0, 0, 1, 1, 0, 1, 0, 1, 1, 0, 0, 0, 0, 0, 0, 0, 0, 0, 1, 1, 1, 1,\n",
              "       1, 0, 0, 1, 1, 0, 1, 1, 1, 0, 0, 0, 1, 0, 1, 0, 0, 0, 1, 0, 0, 0,\n",
              "       0, 1, 0, 0, 1, 1, 0, 0, 0, 1, 0, 0, 1, 1, 1, 0, 0, 1, 0, 0, 1, 0,\n",
              "       0, 1, 0, 0, 1, 1, 0, 0, 0, 0, 1, 0, 0, 1, 0, 1, 0, 0, 1, 0, 0, 0,\n",
              "       0, 0, 1, 0, 1, 1, 1, 0, 1, 0, 1, 0, 1, 0, 1, 0, 0, 0, 0, 0, 0, 1,\n",
              "       0, 0, 0, 1, 0, 0, 0, 0, 1, 1, 0, 0, 1, 0, 0, 0, 1, 0, 1, 0, 1, 0,\n",
              "       0, 0, 0, 0, 0, 0, 1, 1, 1, 1, 0, 0, 0, 0, 1, 0, 0, 1, 1, 0, 0, 0,\n",
              "       0, 1, 1, 1, 1, 1, 0, 1, 0, 0, 0, 1, 1, 0, 0, 1, 0, 0, 0, 1, 0, 1,\n",
              "       1, 0, 0, 1, 0, 0, 0, 0, 0, 0, 1, 0, 0, 1, 0, 1, 0, 1, 0, 0, 1, 0,\n",
              "       0, 1, 1, 0, 0, 1, 1, 0, 0, 0, 1, 0, 0, 1, 1, 0, 1, 0, 0, 0, 0, 0,\n",
              "       0, 0, 0, 1, 0, 0, 1, 0, 1, 1, 1, 0, 0, 0, 0, 1, 0, 1, 0, 0, 0, 0,\n",
              "       0, 0, 0, 1, 1, 0, 0, 0, 1, 1, 1, 1, 0, 0, 0, 0, 1, 0, 0, 0, 0, 0,\n",
              "       0, 0, 0, 0, 0, 1, 1, 0, 1, 0, 0, 0, 1, 1, 1, 1, 0, 0, 0, 1, 0, 0,\n",
              "       1, 1, 0, 0, 1, 0, 0, 0, 0, 0, 0, 1, 0, 0, 0, 1, 0, 1, 1, 1, 1, 0,\n",
              "       0, 0, 1, 0, 0, 1, 1, 0, 0, 1, 0, 1, 0, 0, 1, 1, 0, 0, 0, 1, 1, 0,\n",
              "       0, 0, 0, 0, 0, 1, 0, 1, 0])"
            ]
          },
          "metadata": {
            "tags": []
          },
          "execution_count": 74
        }
      ]
    },
    {
      "cell_type": "code",
      "metadata": {
        "id": "tTAuqsMIV_O-",
        "colab_type": "code",
        "colab": {
          "base_uri": "https://localhost:8080/",
          "height": 51
        },
        "outputId": "9d671477-0fb6-456b-856f-18dc9fc4ab52"
      },
      "source": [
        "results_log.pred_table()"
      ],
      "execution_count": 75,
      "outputs": [
        {
          "output_type": "execute_result",
          "data": {
            "text/plain": [
              "array([[466.,  76.],\n",
              "       [102., 230.]])"
            ]
          },
          "metadata": {
            "tags": []
          },
          "execution_count": 75
        }
      ]
    },
    {
      "cell_type": "markdown",
      "metadata": {
        "id": "w8bPKjsSWguT",
        "colab_type": "text"
      },
      "source": [
        "***Getting the confusion Matrix:***"
      ]
    },
    {
      "cell_type": "code",
      "metadata": {
        "id": "euubXf2DWf1Q",
        "colab_type": "code",
        "colab": {
          "base_uri": "https://localhost:8080/",
          "height": 111
        },
        "outputId": "57432ea5-faca-4f4b-ec51-e9911326219b"
      },
      "source": [
        "cm_df = pd.DataFrame(results_log.pred_table())\n",
        "cm_df.columns = { 'Predicted 0', 'Predicted 1'}\n",
        "cm_df = cm_df.rename(index={0:'Actual 0', 1:'Actual 1'})\n",
        "cm_df"
      ],
      "execution_count": 76,
      "outputs": [
        {
          "output_type": "execute_result",
          "data": {
            "text/html": [
              "<div>\n",
              "<style scoped>\n",
              "    .dataframe tbody tr th:only-of-type {\n",
              "        vertical-align: middle;\n",
              "    }\n",
              "\n",
              "    .dataframe tbody tr th {\n",
              "        vertical-align: top;\n",
              "    }\n",
              "\n",
              "    .dataframe thead th {\n",
              "        text-align: right;\n",
              "    }\n",
              "</style>\n",
              "<table border=\"1\" class=\"dataframe\">\n",
              "  <thead>\n",
              "    <tr style=\"text-align: right;\">\n",
              "      <th></th>\n",
              "      <th>Predicted 0</th>\n",
              "      <th>Predicted 1</th>\n",
              "    </tr>\n",
              "  </thead>\n",
              "  <tbody>\n",
              "    <tr>\n",
              "      <th>Actual 0</th>\n",
              "      <td>466.0</td>\n",
              "      <td>76.0</td>\n",
              "    </tr>\n",
              "    <tr>\n",
              "      <th>Actual 1</th>\n",
              "      <td>102.0</td>\n",
              "      <td>230.0</td>\n",
              "    </tr>\n",
              "  </tbody>\n",
              "</table>\n",
              "</div>"
            ],
            "text/plain": [
              "          Predicted 0  Predicted 1\n",
              "Actual 0        466.0         76.0\n",
              "Actual 1        102.0        230.0"
            ]
          },
          "metadata": {
            "tags": []
          },
          "execution_count": 76
        }
      ]
    },
    {
      "cell_type": "markdown",
      "metadata": {
        "id": "c_1SJLzaWmoG",
        "colab_type": "text"
      },
      "source": [
        "***Checking the accuracy:***"
      ]
    },
    {
      "cell_type": "code",
      "metadata": {
        "id": "D2Madbc9XWOz",
        "colab_type": "code",
        "colab": {
          "base_uri": "https://localhost:8080/",
          "height": 34
        },
        "outputId": "fbf08525-eb7f-4228-83f3-6b779d7c57f3"
      },
      "source": [
        "cm = np.array(cm_df)\n",
        "accuracy_train = (cm[0,0]+cm[1,1])/cm.sum()\n",
        "accuracy_train"
      ],
      "execution_count": 77,
      "outputs": [
        {
          "output_type": "execute_result",
          "data": {
            "text/plain": [
              "0.7963386727688787"
            ]
          },
          "metadata": {
            "tags": []
          },
          "execution_count": 77
        }
      ]
    },
    {
      "cell_type": "markdown",
      "metadata": {
        "id": "BrzzLc4Cb9If",
        "colab_type": "text"
      },
      "source": [
        "Another method of trying Logistic Regression:"
      ]
    },
    {
      "cell_type": "code",
      "metadata": {
        "id": "cxsjlnGBbOW5",
        "colab_type": "code",
        "colab": {
          "base_uri": "https://localhost:8080/",
          "height": 51
        },
        "outputId": "16ec6eda-3b6a-47ff-8128-553bbdc2653d"
      },
      "source": [
        "from sklearn.linear_model import LogisticRegression\n",
        "from sklearn.model_selection import cross_val_score\n",
        "lr = LogisticRegression(max_iter = 2000)\n",
        "cv = cross_val_score(lr,x,y,cv=5)\n",
        "print(cv)\n",
        "print(cv.mean())"
      ],
      "execution_count": 79,
      "outputs": [
        {
          "output_type": "stream",
          "text": [
            "[0.81714286 0.78857143 0.78285714 0.78285714 0.81609195]\n",
            "0.7975041050903121\n"
          ],
          "name": "stdout"
        }
      ]
    },
    {
      "cell_type": "markdown",
      "metadata": {
        "id": "fMb5fOWZflOV",
        "colab_type": "text"
      },
      "source": [
        "Using decision tree:"
      ]
    },
    {
      "cell_type": "code",
      "metadata": {
        "id": "UNM7hfQwfkwe",
        "colab_type": "code",
        "colab": {
          "base_uri": "https://localhost:8080/",
          "height": 51
        },
        "outputId": "9db2f8e3-fa3c-472a-f640-8622ef6b3eb9"
      },
      "source": [
        "from sklearn import tree\n",
        "dt = tree.DecisionTreeClassifier(random_state = 1)\n",
        "cv = cross_val_score(dt,x,y,cv=5)\n",
        "print(cv)\n",
        "print(cv.mean())"
      ],
      "execution_count": 99,
      "outputs": [
        {
          "output_type": "stream",
          "text": [
            "[0.64571429 0.73714286 0.78285714 0.81142857 0.77011494]\n",
            "0.7494515599343184\n"
          ],
          "name": "stdout"
        }
      ]
    },
    {
      "cell_type": "markdown",
      "metadata": {
        "id": "dBJSqr8Ff-T5",
        "colab_type": "text"
      },
      "source": [
        "Using a Gaussian approach:"
      ]
    },
    {
      "cell_type": "code",
      "metadata": {
        "id": "JGyaouSRgCtJ",
        "colab_type": "code",
        "colab": {
          "base_uri": "https://localhost:8080/",
          "height": 51
        },
        "outputId": "a2ff60cf-b445-4f27-cb6c-98f74634a30a"
      },
      "source": [
        "from sklearn.naive_bayes import GaussianNB\n",
        "gnb = GaussianNB()\n",
        "cv = cross_val_score(gnb,x,y,cv=5)\n",
        "print(cv)\n",
        "print(cv.mean())"
      ],
      "execution_count": 101,
      "outputs": [
        {
          "output_type": "stream",
          "text": [
            "[0.76       0.79428571 0.78857143 0.8        0.79885057]\n",
            "0.7883415435139574\n"
          ],
          "name": "stdout"
        }
      ]
    },
    {
      "cell_type": "markdown",
      "metadata": {
        "id": "9WDBf9-ogYzs",
        "colab_type": "text"
      },
      "source": [
        "K Neighbors:"
      ]
    },
    {
      "cell_type": "code",
      "metadata": {
        "id": "sLc8JTRxgQT7",
        "colab_type": "code",
        "colab": {
          "base_uri": "https://localhost:8080/",
          "height": 51
        },
        "outputId": "83fe31e7-18c7-4390-cf50-6c4115424f13"
      },
      "source": [
        "from sklearn.neighbors import KNeighborsClassifier\n",
        "knn = KNeighborsClassifier()\n",
        "cv = cross_val_score(knn,x,y,cv=5)\n",
        "print(cv)\n",
        "print(cv.mean())\n"
      ],
      "execution_count": 103,
      "outputs": [
        {
          "output_type": "stream",
          "text": [
            "[0.62285714 0.48       0.48       0.50285714 0.67816092]\n",
            "0.552775041050903\n"
          ],
          "name": "stdout"
        }
      ]
    },
    {
      "cell_type": "markdown",
      "metadata": {
        "id": "jXol3NjIgqxP",
        "colab_type": "text"
      },
      "source": [
        "Using SVC"
      ]
    },
    {
      "cell_type": "code",
      "metadata": {
        "id": "bdougo3xgjwN",
        "colab_type": "code",
        "colab": {
          "base_uri": "https://localhost:8080/",
          "height": 51
        },
        "outputId": "0cccbe17-de9b-4692-c6a9-66b61e7ecd35"
      },
      "source": [
        "from sklearn.svm import SVC\n",
        "svc = SVC(probability = True)\n",
        "cv = cross_val_score(svc,x,y,cv=5)\n",
        "print(cv)\n",
        "print(cv.mean())"
      ],
      "execution_count": 104,
      "outputs": [
        {
          "output_type": "stream",
          "text": [
            "[0.62285714 0.62857143 0.65714286 0.63428571 0.64942529]\n",
            "0.6384564860426929\n"
          ],
          "name": "stdout"
        }
      ]
    },
    {
      "cell_type": "markdown",
      "metadata": {
        "id": "WBJr8J9Jg3vb",
        "colab_type": "text"
      },
      "source": [
        "Using Random Forest"
      ]
    },
    {
      "cell_type": "code",
      "metadata": {
        "id": "WAHGriQ_g3Rn",
        "colab_type": "code",
        "colab": {
          "base_uri": "https://localhost:8080/",
          "height": 51
        },
        "outputId": "40895fe9-c705-4a4b-f593-b65dd89d48f2"
      },
      "source": [
        "from sklearn.ensemble import RandomForestClassifier\n",
        "rf = RandomForestClassifier(random_state = 1)\n",
        "cv = cross_val_score(rf,x,y,cv=5)\n",
        "print(cv)\n",
        "print(cv.mean())"
      ],
      "execution_count": 106,
      "outputs": [
        {
          "output_type": "stream",
          "text": [
            "[0.64       0.76571429 0.80571429 0.81714286 0.81609195]\n",
            "0.7689326765188834\n"
          ],
          "name": "stdout"
        }
      ]
    },
    {
      "cell_type": "markdown",
      "metadata": {
        "id": "t0VQcvRbhJv2",
        "colab_type": "text"
      },
      "source": [
        "Note: For some Classifiers the accuracy is extremely low as because scaling is not done.\n",
        "Choosed not to scale because of the presence of a large number of dummies. "
      ]
    }
  ]
}